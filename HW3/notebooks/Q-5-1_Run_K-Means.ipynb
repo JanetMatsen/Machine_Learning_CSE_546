{
 "cells": [
  {
   "cell_type": "code",
   "execution_count": null,
   "metadata": {
    "collapsed": false
   },
   "outputs": [],
   "source": [
    "import sys\n",
    "print(sys.version)"
   ]
  },
  {
   "cell_type": "code",
   "execution_count": null,
   "metadata": {
    "collapsed": true
   },
   "outputs": [],
   "source": [
    "import numpy as np\n",
    "import matplotlib as mpl\n",
    "import matplotlib.pyplot as plt\n",
    "%matplotlib inline\n",
    "import time\n",
    "\n",
    "import pandas as pd\n",
    "import seaborn as sns"
   ]
  },
  {
   "cell_type": "code",
   "execution_count": null,
   "metadata": {
    "collapsed": false
   },
   "outputs": [],
   "source": [
    "import sys\n",
    "sys.path.append('../code/')\n",
    "\n",
    "from mnist_helpers import mnist_training, mnist_testing\n",
    "from k_means import KMeans\n",
    "from pca import Pca, make_image"
   ]
  },
  {
   "cell_type": "code",
   "execution_count": null,
   "metadata": {
    "collapsed": false
   },
   "outputs": [],
   "source": [
    "! ls -l ./data/PCA_training_data.pickle"
   ]
  },
  {
   "cell_type": "code",
   "execution_count": null,
   "metadata": {
    "collapsed": false
   },
   "outputs": [],
   "source": [
    "import pickle\n",
    "pca_training = pickle.load(file=open('./data/PCA_training_data.pickle', \"rb\"))"
   ]
  },
  {
   "cell_type": "code",
   "execution_count": null,
   "metadata": {
    "collapsed": false
   },
   "outputs": [],
   "source": [
    "X_train_untransformed, y_train = mnist_training(shuffled=False) \n",
    "X_train = np.load('../notebooks/data/X_transformed_by_50_components.npy')\n",
    "print(\"X_train shape: {}.  y_train shape: {}\".format(X_train.shape, y_train.shape))\n",
    "\n",
    "X_test_untransformed, y_test = mnist_testing(shuffled=False)\n",
    "X_test = np.load('../notebooks/data/X_test_transformed_by_50_components.npy')\n",
    "print(\"X_test shape: {}.  y_test shape: {}\".format(X_test.shape, y_test.shape))\n",
    "\n"
   ]
  },
  {
   "cell_type": "code",
   "execution_count": null,
   "metadata": {
    "collapsed": false
   },
   "outputs": [],
   "source": [
    "N_points = 60000\n",
    "assert X_train_untransformed.shape[0] == N_points\n",
    "assert X_train.shape[0] == N_points"
   ]
  },
  {
   "cell_type": "markdown",
   "metadata": {},
   "source": [
    "## Q 5.1: \n",
    "\n",
    "k = 16, MNIST data transformed by first 50 PCA components."
   ]
  },
  {
   "cell_type": "code",
   "execution_count": null,
   "metadata": {
    "collapsed": false
   },
   "outputs": [],
   "source": [
    "km_16 = KMeans(k=16, train_X=X_train, train_y=y_train, \n",
    "            pca_obj=pca_training,\n",
    "            max_iter = 500, \n",
    "            # TODO: write methods for test\n",
    "            #test_X=X_test, test_y=y_test,\n",
    "            verbose=False)\n",
    "km_16.run()"
   ]
  },
  {
   "cell_type": "markdown",
   "metadata": {},
   "source": [
    "(a) The squared reconstruction error vs iteration number."
   ]
  },
  {
   "cell_type": "code",
   "execution_count": null,
   "metadata": {
    "collapsed": false
   },
   "outputs": [],
   "source": [
    "km_16_reconstruction_error = km_16.plot_squared_reconstruction_error()\n",
    "km_16_reconstruction_error.savefig('../figures/k_means/k16_reconstruction_error.pdf')"
   ]
  },
  {
   "cell_type": "code",
   "execution_count": null,
   "metadata": {
    "collapsed": false
   },
   "outputs": [],
   "source": [
    "km_16.results_df.head(2)"
   ]
  },
  {
   "cell_type": "code",
   "execution_count": null,
   "metadata": {
    "collapsed": false
   },
   "outputs": [],
   "source": [
    "km_16.plot_squared_reconstruction_error_normalized()"
   ]
  },
  {
   "cell_type": "code",
   "execution_count": null,
   "metadata": {
    "collapsed": false
   },
   "outputs": [],
   "source": [
    "km_16_0_1_loss = km_16.plot_0_1_loss()\n",
    "km_16_0_1_loss.savefig('../figures/k_means/k16_loss_01.pdf')"
   ]
  },
  {
   "cell_type": "markdown",
   "metadata": {},
   "source": [
    "(b) Let us say that the number of assignments for a mean is the number of points assigned to that\n",
    "mean. Plot the number of assignments for each center in descending order."
   ]
  },
  {
   "cell_type": "code",
   "execution_count": null,
   "metadata": {
    "collapsed": false
   },
   "outputs": [],
   "source": [
    "km_16_assignment_bars = km_16.plot_num_assignments_for_each_center()\n",
    "km_16_assignment_bars.savefig('../figures/k_means/k16_assignment_bars.pdf')"
   ]
  },
  {
   "cell_type": "markdown",
   "metadata": {},
   "source": [
    "(c) Visualize the 16 centers that you learned, and display them in an order in that corresponds to\n",
    "the frequency in which they were assigned (if you use a grid, just describe the ordering)."
   ]
  },
  {
   "cell_type": "code",
   "execution_count": null,
   "metadata": {
    "collapsed": false
   },
   "outputs": [],
   "source": [
    "km_16.visualize_center(km_16.center_coordinates[0])"
   ]
  },
  {
   "cell_type": "code",
   "execution_count": null,
   "metadata": {
    "collapsed": false
   },
   "outputs": [],
   "source": [
    "km_16.visualize_top_n_centers(4)"
   ]
  },
  {
   "cell_type": "markdown",
   "metadata": {},
   "source": [
    "(a) The squared reconstruction error vs iteration number.\n",
    "(b) Let us say that the number of assignments for a mean is the number of points assigned to that\n",
    "mean. Plot the number of assignments for each center in descending order.\n",
    "(c) Visualize 16 of these centers, chosen randomly. Display them in the order in an order in that\n",
    "corresponds to the frequency in which they were assigned."
   ]
  },
  {
   "cell_type": "code",
   "execution_count": null,
   "metadata": {
    "collapsed": false
   },
   "outputs": [],
   "source": [
    "        for i, center in enumerate([1,20,3]):\n",
    "            print(i, center)"
   ]
  },
  {
   "cell_type": "code",
   "execution_count": null,
   "metadata": {
    "collapsed": false
   },
   "outputs": [],
   "source": [
    "\" \".join(['a', 'b', 'c'])"
   ]
  },
  {
   "cell_type": "code",
   "execution_count": null,
   "metadata": {
    "collapsed": false
   },
   "outputs": [],
   "source": [
    "cts = km_16.results_df_cluster_assignment_counts.tail(1)\n",
    "del cts['iteration']\n",
    "print(cts)\n",
    "print\n",
    "cts = cts.T\n",
    "print(cts.to_dict()[0])\n",
    "cts.sort(ascending=False, inplace=True)\n",
    "cts\n",
    "#list(cts.index)"
   ]
  },
  {
   "cell_type": "code",
   "execution_count": null,
   "metadata": {
    "collapsed": false
   },
   "outputs": [],
   "source": [
    "cts = km_16.results_df_cluster_assignment_counts.tail(1)\n",
    "del cts['iteration']\n",
    "print(cts)\n",
    "print\n",
    "cts = cts.T[0]\n",
    "cts.nlargest(3).index.values"
   ]
  },
  {
   "cell_type": "code",
   "execution_count": null,
   "metadata": {
    "collapsed": false
   },
   "outputs": [],
   "source": [
    "km = KMeans(k=250, train_X=X_train, \n",
    "            train_y=y_train, \n",
    "            pca_obj=pca_training,\n",
    "            max_iter = 1000, \n",
    "            test_X=X_test, test_y=y_test,\n",
    "           verbose=False)\n",
    "km.run()"
   ]
  },
  {
   "cell_type": "code",
   "execution_count": null,
   "metadata": {
    "collapsed": true
   },
   "outputs": [],
   "source": []
  },
  {
   "cell_type": "code",
   "execution_count": null,
   "metadata": {
    "collapsed": true
   },
   "outputs": [],
   "source": [
    "km = KMeans(k=250, train_X=X_train, \n",
    "            train_y=y_train, \n",
    "            pca_obj=pca_training,\n",
    "            max_iter = 1000, \n",
    "            test_X=X_test, test_y=y_test,\n",
    "           verbose=False)\n",
    "km.run()"
   ]
  },
  {
   "cell_type": "code",
   "execution_count": null,
   "metadata": {
    "collapsed": false
   },
   "outputs": [],
   "source": [
    "km.converged"
   ]
  },
  {
   "cell_type": "code",
   "execution_count": null,
   "metadata": {
    "collapsed": false
   },
   "outputs": [],
   "source": [
    "km.num_iter"
   ]
  },
  {
   "cell_type": "code",
   "execution_count": null,
   "metadata": {
    "collapsed": false
   },
   "outputs": [],
   "source": [
    "km.loss_01_normalized()"
   ]
  },
  {
   "cell_type": "code",
   "execution_count": null,
   "metadata": {
    "collapsed": false
   },
   "outputs": [],
   "source": [
    "km.num_assignments_per_cluster()"
   ]
  },
  {
   "cell_type": "code",
   "execution_count": null,
   "metadata": {
    "collapsed": false
   },
   "outputs": [],
   "source": [
    "km.results_df"
   ]
  },
  {
   "cell_type": "code",
   "execution_count": null,
   "metadata": {
    "collapsed": false
   },
   "outputs": [],
   "source": [
    "p1 = km.plot_squared_reconstruction_error()"
   ]
  },
  {
   "cell_type": "code",
   "execution_count": null,
   "metadata": {
    "collapsed": false
   },
   "outputs": [],
   "source": [
    "km.loss_01_normalized()"
   ]
  },
  {
   "cell_type": "code",
   "execution_count": null,
   "metadata": {
    "collapsed": false
   },
   "outputs": [],
   "source": [
    "km.results_df_cluster_assignment_counts"
   ]
  },
  {
   "cell_type": "code",
   "execution_count": null,
   "metadata": {
    "collapsed": false
   },
   "outputs": [],
   "source": [
    "km.center_coordinates.shape"
   ]
  },
  {
   "cell_type": "code",
   "execution_count": null,
   "metadata": {
    "collapsed": false
   },
   "outputs": [],
   "source": [
    "df = km.results_df_cluster_assignment_counts.copy()\n",
    "df.set_index('iteration', inplace=True)\n",
    "df.head()"
   ]
  },
  {
   "cell_type": "code",
   "execution_count": null,
   "metadata": {
    "collapsed": false
   },
   "outputs": [],
   "source": [
    "f = plt.figure()\n",
    "\n",
    "plt.title('Num points per cluster', color='black')\n",
    "df.plot(figsize = (4,3), ax=f.gca())\n",
    "plt.legend(loc='center left', bbox_to_anchor=(1.0, 0.5))\n",
    "plt.show()"
   ]
  },
  {
   "cell_type": "code",
   "execution_count": null,
   "metadata": {
    "collapsed": true
   },
   "outputs": [],
   "source": []
  }
 ],
 "metadata": {
  "anaconda-cloud": {},
  "kernelspec": {
   "display_name": "Python [conda env:mlpy3]",
   "language": "python",
   "name": "conda-env-mlpy3-py"
  },
  "language_info": {
   "codemirror_mode": {
    "name": "ipython",
    "version": 3
   },
   "file_extension": ".py",
   "mimetype": "text/x-python",
   "name": "python",
   "nbconvert_exporter": "python",
   "pygments_lexer": "ipython3",
   "version": "3.5.2"
  }
 },
 "nbformat": 4,
 "nbformat_minor": 1
}
