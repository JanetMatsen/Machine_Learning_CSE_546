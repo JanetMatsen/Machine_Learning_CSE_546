{
 "cells": [
  {
   "cell_type": "code",
   "execution_count": 1,
   "metadata": {
    "collapsed": false
   },
   "outputs": [
    {
     "name": "stdout",
     "output_type": "stream",
     "text": [
      "3.5.2 |Continuum Analytics, Inc.| (default, Jul  2 2016, 17:53:06) \n",
      "[GCC 4.4.7 20120313 (Red Hat 4.4.7-1)]\n"
     ]
    }
   ],
   "source": [
    "import sys\n",
    "print(sys.version)"
   ]
  },
  {
   "cell_type": "code",
   "execution_count": 2,
   "metadata": {
    "collapsed": true
   },
   "outputs": [],
   "source": [
    "import numpy as np\n",
    "import matplotlib as mpl\n",
    "import matplotlib.pyplot as plt\n",
    "%matplotlib inline\n",
    "import time\n",
    "\n",
    "import pandas as pd\n",
    "import seaborn as sns"
   ]
  },
  {
   "cell_type": "code",
   "execution_count": 3,
   "metadata": {
    "collapsed": true
   },
   "outputs": [],
   "source": [
    "import sys\n",
    "sys.path.append('../code/')"
   ]
  },
  {
   "cell_type": "code",
   "execution_count": 4,
   "metadata": {
    "collapsed": false
   },
   "outputs": [
    {
     "name": "stdout",
     "output_type": "stream",
     "text": [
      "/home/jmatsen/miniconda2/envs/mlpy3/bin/python\r\n"
     ]
    }
   ],
   "source": [
    "! which python"
   ]
  },
  {
   "cell_type": "code",
   "execution_count": 5,
   "metadata": {
    "collapsed": false
   },
   "outputs": [],
   "source": [
    "from least_squares_sgd import LeastSquaresSGD\n",
    "from rbf_kernel import RBFKernel\n",
    "from mnist_helpers import mnist_training, mnist_testing\n",
    "from hyperparameter_explorer import HyperparameterExplorer"
   ]
  },
  {
   "cell_type": "code",
   "execution_count": 6,
   "metadata": {
    "collapsed": false
   },
   "outputs": [],
   "source": [
    "from sklearn.datasets import make_classification\n",
    "X, y = make_classification(n_samples=200, n_features=60, \n",
    "                           n_informative=60, n_redundant=0, n_repeated=0, \n",
    "                           n_classes=5, n_clusters_per_class=1, \n",
    "                           weights=None, flip_y=0.001, class_sep=1.0, \n",
    "                           hypercube=True, shift=0.0, scale=1.0, \n",
    "                           shuffle=True, random_state=None)\n",
    "X_train, y_train = X[0:100], y[0:100]\n",
    "X_test, y_test = X[100:], y[100:]"
   ]
  },
  {
   "cell_type": "code",
   "execution_count": 7,
   "metadata": {
    "collapsed": false
   },
   "outputs": [
    {
     "name": "stdout",
     "output_type": "stream",
     "text": [
      "10 of 100 points from training are reserved for validation\n",
      "variances of all training data: 2.14\n",
      "variances of split-off training & validation data: 2.1333333333333333, 2.2\n"
     ]
    }
   ],
   "source": [
    "h = HyperparameterExplorer(X=X_train, y=y_train, score_name='(square loss)/N, training',\n",
    "                           primary_hyperparameter='sigma',\n",
    "                           classifier = LeastSquaresSGD,\n",
    "                           use_prev_best_weights=True,\n",
    "                           test_X=X_test, test_y=y_test)"
   ]
  },
  {
   "cell_type": "code",
   "execution_count": null,
   "metadata": {
    "collapsed": true
   },
   "outputs": [],
   "source": [
    "model_kwargs_sweep = {'delta_percent':0.01, 'max_epochs':50, 'batch_size':10,\n",
    "                      'verbose':False}"
   ]
  },
  {
   "cell_type": "code",
   "execution_count": null,
   "metadata": {
    "collapsed": false
   },
   "outputs": [
    {
     "name": "stdout",
     "output_type": "stream",
     "text": [
      "determine RBF kernel bandwidth using 90 points.\n",
      "median distance for 90 samples from N: 49.12265347239067\n",
      "Remember not to check the log loss too often.  Expensive!\n",
      "testing eta0 = 0.001\n"
     ]
    },
    {
     "name": "stderr",
     "output_type": "stream",
     "text": [
      "../code/least_squares_sgd.py:252: RuntimeWarning: invalid value encountered in double_scalars\n",
      "  len(self.last_n_weights)\n"
     ]
    },
    {
     "name": "stdout",
     "output_type": "stream",
     "text": [
      "............Loss optimized.  Old/N: 0.9653149806798499, new/N:0.9653137069777036. Eta: 3.5359421354576136e-08\n",
      ".final normalized training (square loss): 0.9653137069777036\n",
      "testing eta0 = 0.005\n",
      "............Loss optimized.  Old/N: 0.8761780206696479, new/N:0.8761750400818549. Eta: 1.7679710677288067e-07\n",
      ".final normalized training (square loss): 0.8761750400818549\n",
      "testing eta0 = 0.025\n",
      "............Loss optimized.  Old/N: 0.7981875823307648, new/N:0.7981871832741695. Eta: 8.839855338644034e-07\n",
      ".final normalized training (square loss): 0.7981871832741695\n",
      "testing eta0 = 0.125\n",
      "............Loss optimized.  Old/N: 0.7927943411753675, new/N:0.7927937874177962. Eta: 4.419927669322017e-06\n",
      ".final normalized training (square loss): 0.7927937874177962\n",
      "testing eta0 = 0.625\n"
     ]
    }
   ],
   "source": [
    "h.train_model(model_kwargs=model_kwargs_sweep, kernel_kwargs={})"
   ]
  },
  {
   "cell_type": "code",
   "execution_count": null,
   "metadata": {
    "collapsed": false
   },
   "outputs": [],
   "source": [
    "first_sigma = h.models[1].kernel.sigma\n",
    "first_sigma"
   ]
  },
  {
   "cell_type": "code",
   "execution_count": null,
   "metadata": {
    "collapsed": false
   },
   "outputs": [],
   "source": [
    "h.models[1].plot_loss_and_eta()"
   ]
  },
  {
   "cell_type": "code",
   "execution_count": null,
   "metadata": {
    "collapsed": false
   },
   "outputs": [],
   "source": [
    "h.models[1].plot_w_hat_history()"
   ]
  },
  {
   "cell_type": "code",
   "execution_count": null,
   "metadata": {
    "collapsed": false
   },
   "outputs": [],
   "source": [
    "h.train_model(model_kwargs = model_kwargs_sweep,\n",
    "              kernel_kwargs = {'sigma':first_sigma/2})"
   ]
  },
  {
   "cell_type": "code",
   "execution_count": null,
   "metadata": {
    "collapsed": false
   },
   "outputs": [],
   "source": [
    "h.train_model(model_kwargs = model_kwargs_sweep,\n",
    "              kernel_kwargs = {'sigma':first_sigma/2})"
   ]
  },
  {
   "cell_type": "code",
   "execution_count": null,
   "metadata": {
    "collapsed": false
   },
   "outputs": [],
   "source": [
    "h.best_results_across_hyperparams()"
   ]
  },
  {
   "cell_type": "code",
   "execution_count": null,
   "metadata": {
    "collapsed": false
   },
   "outputs": [],
   "source": [
    "h.plot_fits()"
   ]
  },
  {
   "cell_type": "code",
   "execution_count": null,
   "metadata": {
    "collapsed": true
   },
   "outputs": [],
   "source": [
    "h.p"
   ]
  },
  {
   "cell_type": "code",
   "execution_count": null,
   "metadata": {
    "collapsed": false
   },
   "outputs": [],
   "source": [
    "assert False"
   ]
  },
  {
   "cell_type": "code",
   "execution_count": null,
   "metadata": {
    "collapsed": false
   },
   "outputs": [],
   "source": [
    "model.plot_01_loss(logx=True)"
   ]
  },
  {
   "cell_type": "code",
   "execution_count": null,
   "metadata": {
    "collapsed": false
   },
   "outputs": [],
   "source": [
    "model.plot_square_loss(logx=False)"
   ]
  },
  {
   "cell_type": "code",
   "execution_count": null,
   "metadata": {
    "collapsed": false
   },
   "outputs": [],
   "source": [
    "fig, ax = plt.subplots(1, 1, figsize=(4,3))\n",
    "plot_data = model.results[model.results['step'] > 1]\n",
    "plot_x = 'step'\n",
    "plot_y = 'training (0/1 loss)/N'\n",
    "colors = ['gray']\n",
    "plt.plot(plot_data[plot_x], plot_data[plot_y],\n",
    "             linestyle='--', marker='o',\n",
    "             color=colors[0])"
   ]
  },
  {
   "cell_type": "code",
   "execution_count": null,
   "metadata": {
    "collapsed": false
   },
   "outputs": [],
   "source": [
    "model.w_hat_variance_df.head(3)"
   ]
  },
  {
   "cell_type": "code",
   "execution_count": null,
   "metadata": {
    "collapsed": false
   },
   "outputs": [],
   "source": [
    "model.plot_w_hat_history()"
   ]
  },
  {
   "cell_type": "code",
   "execution_count": null,
   "metadata": {
    "collapsed": false
   },
   "outputs": [],
   "source": [
    "model.results.columns"
   ]
  },
  {
   "cell_type": "code",
   "execution_count": null,
   "metadata": {
    "collapsed": false
   },
   "outputs": [],
   "source": [
    "model.plot_loss_and_eta()"
   ]
  },
  {
   "cell_type": "code",
   "execution_count": null,
   "metadata": {
    "collapsed": false
   },
   "outputs": [],
   "source": [
    "model.converged"
   ]
  },
  {
   "cell_type": "code",
   "execution_count": null,
   "metadata": {
    "collapsed": true
   },
   "outputs": [],
   "source": [
    "## Add notion of model improving itself"
   ]
  },
  {
   "cell_type": "code",
   "execution_count": null,
   "metadata": {
    "collapsed": false
   },
   "outputs": [],
   "source": [
    "dp = model.delta_percent\n",
    "dp"
   ]
  },
  {
   "cell_type": "code",
   "execution_count": null,
   "metadata": {
    "collapsed": false
   },
   "outputs": [],
   "source": [
    "prev_steps = model.steps\n",
    "prev_steps"
   ]
  },
  {
   "cell_type": "code",
   "execution_count": null,
   "metadata": {
    "collapsed": false
   },
   "outputs": [],
   "source": [
    "model.run_longer(epochs=100, delta_percent=dp/10, fast_steps=int(prev_steps))"
   ]
  },
  {
   "cell_type": "code",
   "execution_count": null,
   "metadata": {
    "collapsed": false
   },
   "outputs": [],
   "source": [
    "model.plot_loss_and_eta()"
   ]
  },
  {
   "cell_type": "code",
   "execution_count": null,
   "metadata": {
    "collapsed": false
   },
   "outputs": [],
   "source": [
    "model.plot_01_loss()"
   ]
  },
  {
   "cell_type": "markdown",
   "metadata": {},
   "source": [
    "# Should diverge:"
   ]
  },
  {
   "cell_type": "code",
   "execution_count": null,
   "metadata": {
    "collapsed": false
   },
   "outputs": [],
   "source": [
    "model_diverge = LeastSquaresSGD(X=X, y=y, batch_size=2, eta0 = model.eta0*10,\n",
    "                                kernel=NoKernel, \n",
    "                                progress_monitoring_freq=100, max_epochs=500)\n",
    "model_diverge.run()"
   ]
  },
  {
   "cell_type": "code",
   "execution_count": null,
   "metadata": {
    "collapsed": false
   },
   "outputs": [],
   "source": [
    "model_diverge.plot_square_loss()"
   ]
  }
 ],
 "metadata": {
  "anaconda-cloud": {},
  "kernelspec": {
   "display_name": "Python [conda env:mlpy3]",
   "language": "python",
   "name": "conda-env-mlpy3-py"
  },
  "language_info": {
   "codemirror_mode": {
    "name": "ipython",
    "version": 3
   },
   "file_extension": ".py",
   "mimetype": "text/x-python",
   "name": "python",
   "nbconvert_exporter": "python",
   "pygments_lexer": "ipython3",
   "version": "3.5.2"
  }
 },
 "nbformat": 4,
 "nbformat_minor": 1
}
