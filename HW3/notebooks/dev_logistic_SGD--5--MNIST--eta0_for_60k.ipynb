{
 "cells": [
  {
   "cell_type": "code",
   "execution_count": 1,
   "metadata": {
    "collapsed": false
   },
   "outputs": [
    {
     "name": "stdout",
     "output_type": "stream",
     "text": [
      "3.5.2 |Continuum Analytics, Inc.| (default, Jul  2 2016, 17:52:12) \n",
      "[GCC 4.2.1 Compatible Apple LLVM 4.2 (clang-425.0.28)]\n"
     ]
    }
   ],
   "source": [
    "import sys\n",
    "print(sys.version)"
   ]
  },
  {
   "cell_type": "code",
   "execution_count": 2,
   "metadata": {
    "collapsed": true
   },
   "outputs": [],
   "source": [
    "import numpy as np\n",
    "import matplotlib as mpl\n",
    "import matplotlib.pyplot as plt\n",
    "%matplotlib inline\n",
    "import time\n",
    "\n",
    "import pandas as pd\n",
    "import seaborn as sns"
   ]
  },
  {
   "cell_type": "code",
   "execution_count": 3,
   "metadata": {
    "collapsed": false
   },
   "outputs": [],
   "source": [
    "import sys\n",
    "sys.path.append('../code/')\n",
    "\n",
    "from mnist_helpers import mnist_training, mnist_testing\n",
    "from hyperparameter_explorer import HyperparameterExplorer\n",
    "from least_squares_sgd import LeastSquaresSGD\n",
    "from kernel import Fourier"
   ]
  },
  {
   "cell_type": "code",
   "execution_count": 4,
   "metadata": {
    "collapsed": true
   },
   "outputs": [],
   "source": [
    "X_train_untransformed, y_train = mnist_training(shuffled=False) \n",
    "X_train = np.load('../notebooks/data/X_transformed_by_50_components.npy')\n",
    "\n",
    "X_test_untransformed, y_test = mnist_testing(shuffled=False)\n",
    "X_test = np.load('../notebooks/data/X_test_transformed_by_50_components.npy')\n"
   ]
  },
  {
   "cell_type": "markdown",
   "metadata": {},
   "source": [
    "Can't do with HyperExplorer; not amenable to # of points changing."
   ]
  },
  {
   "cell_type": "code",
   "execution_count": 5,
   "metadata": {
    "collapsed": false
   },
   "outputs": [
    {
     "name": "stdout",
     "output_type": "stream",
     "text": [
      "No test data was provided.\n",
      "determine kernel bandwidth using 6000 points.\n",
      "median distance for 6000 samples from N: 2365.3743022656654\n",
      "eta0 search begins with eta0 = 100/0.0016666666666666668 = 60000\n",
      "Determining eta0 using 60000 points\n",
      "testing eta0 = 0.001666666666666667.  (Try # 1)\n",
      ",,,,,,,,,,,,,,,,,,,,,,,,,,,,,,,,,,,,,,,,,,,,,,,,,,,,,,,,,,,, (done calculating hat{Y})\n",
      "average error: 0.1.  (step = 0)\n",
      "Begin epoch 1\n",
      "............................................................ (epoch complete)\n",
      "Epoch iteration time: 4.0:31.\n",
      ",,,,,,,,,,,,,,,,,,,,,,,,,,,,,,,,,,,,,,,,,,,,,,,,,,,,,,,,,,,, (done calculating hat{Y})\n",
      "average error: 0.09281455757552602.  (step = 12000)\n",
      "fit observation done: 3.0:17.\n",
      "0.220811049473\n",
      "Begin epoch 2\n",
      "............................................................ (epoch complete)\n",
      "Epoch iteration time: 4.0:16.\n",
      ",,,,,,,,,,,,,,,,,,,,,,,,,,,,,,,,,,,,,,,,,,,,,,,,,,,,,,,,,,,, (done calculating hat{Y})\n",
      "average error: 0.08352685635424476.  (step = 24000)\n",
      "fit observation done: 2.0:33.\n",
      "0.182121471268\n",
      "Begin epoch 3\n",
      "............................................................ (epoch complete)\n",
      "Epoch iteration time: 4.0:14.\n",
      ",,,,,,,,,,,,,,,,,,,,,,,,,,,,,,,,,,,,,,,,,,,,,,,,,,,,,,,,,,,, (done calculating hat{Y})\n",
      "average error: 0.07559210732930001.  (step = 36000)\n",
      "fit observation done: 2.0:26.\n",
      "0.15641874051\n",
      "Begin epoch 4\n",
      "............................................................ (epoch complete)\n",
      "Epoch iteration time: 4.0:6.\n",
      ",,,,,,,,,,,,,,,,,,,,,,,,,,,,,,,,,,,,,,,,,,,,,,,,,,,,,,,,,,,, (done calculating hat{Y})\n",
      "average error: 0.0714905081902154.  (step = 48000)\n",
      "fit observation done: 2.0:30.\n",
      "0.144091278283\n",
      "\n",
      "!!! Max epochs (5) reached. !!!\n",
      "final normalized training (square loss): 0.14409127828349433\n",
      "testing eta0 = 0.008333333333333335.  (Try # 2)\n",
      ",,,,,,,,,,,,,,,,,,,,,,,,,,,,,,,,,,,,,,,,,,,,,,,,,,,,,,,,,,,, (done calculating hat{Y})\n",
      "average error: 0.1.  (step = 0)\n",
      "Begin epoch 1\n",
      "............................................................ (epoch complete)\n",
      "Epoch iteration time: 3.0:53.\n",
      ",,,,,,,,,,,,,,,,,,,,,,,,,,,,,,,,,,,,,,,,,,,,,,,,,,,,,,,,,,,, (done calculating hat{Y})\n",
      "average error: 1.2461792335712669e+157.  (step = 12000)\n",
      "The sum of errors is concerningly big: 1.2461792335712669e+157\n",
      "fit observation done: 2.0:37.\n",
      "square loss/N/N grew to inf\n",
      "Model training raised an exception.\n",
      "Exploration for good eta0 started at 0.0016666666666666668; stopped passing when eta0  grew to 0.008333333333333335\n",
      "===== eta0 search landed on 0.001666666666666667, using 60000 points ====\n"
     ]
    },
    {
     "name": "stderr",
     "output_type": "stream",
     "text": [
      "../code/least_squares_sgd.py:306: RuntimeWarning: overflow encountered in multiply\n",
      "  \"Compute Yhat before calling predict, but don't compute too often!\"\n"
     ]
    }
   ],
   "source": [
    "ls60k = LeastSquaresSGD(X_train, \n",
    "                     y_train,\n",
    "                     max_epochs=2,\n",
    "                        eta0_search_start = 100,\n",
    "                     eta0_max_pts=X_train.shape[0],\n",
    "                     verbose=True,\n",
    "                     assess_test_data_during_fitting = False)"
   ]
  }
 ],
 "metadata": {
  "anaconda-cloud": {},
  "kernelspec": {
   "display_name": "Python [conda env:mlpy3]",
   "language": "python",
   "name": "conda-env-mlpy3-py"
  },
  "language_info": {
   "codemirror_mode": {
    "name": "ipython",
    "version": 3
   },
   "file_extension": ".py",
   "mimetype": "text/x-python",
   "name": "python",
   "nbconvert_exporter": "python",
   "pygments_lexer": "ipython3",
   "version": "3.5.2"
  }
 },
 "nbformat": 4,
 "nbformat_minor": 1
}
