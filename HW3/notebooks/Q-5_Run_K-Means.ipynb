{
 "cells": [
  {
   "cell_type": "code",
   "execution_count": null,
   "metadata": {
    "collapsed": false
   },
   "outputs": [],
   "source": [
    "import sys\n",
    "print(sys.version)"
   ]
  },
  {
   "cell_type": "code",
   "execution_count": null,
   "metadata": {
    "collapsed": true
   },
   "outputs": [],
   "source": [
    "import numpy as np\n",
    "import matplotlib as mpl\n",
    "import matplotlib.pyplot as plt\n",
    "%matplotlib inline\n",
    "import time\n",
    "\n",
    "import pandas as pd\n",
    "import seaborn as sns"
   ]
  },
  {
   "cell_type": "code",
   "execution_count": null,
   "metadata": {
    "collapsed": false
   },
   "outputs": [],
   "source": [
    "import sys\n",
    "sys.path.append('../code/')\n",
    "\n",
    "from mnist_helpers import mnist_training, mnist_testing\n",
    "from k_means import KMeans\n",
    "from pca import Pca, make_image"
   ]
  },
  {
   "cell_type": "code",
   "execution_count": null,
   "metadata": {
    "collapsed": false
   },
   "outputs": [],
   "source": [
    "! ls -l ./data/PCA_training_data.pickle"
   ]
  },
  {
   "cell_type": "code",
   "execution_count": null,
   "metadata": {
    "collapsed": false
   },
   "outputs": [],
   "source": [
    "import pickle\n",
    "pca_training = pickle.load(file=open('./data/PCA_training_data.pickle', \"rb\"))"
   ]
  },
  {
   "cell_type": "code",
   "execution_count": null,
   "metadata": {
    "collapsed": false
   },
   "outputs": [],
   "source": [
    "X_train_untransformed, y_train = mnist_training(shuffled=False) \n",
    "X_train = np.load('../notebooks/data/X_transformed_by_50_components.npy')\n",
    "print(\"X_train shape: {}.  y_train shape: {}\".format(X_train.shape, y_train.shape))\n",
    "\n",
    "X_test_untransformed, y_test = mnist_testing(shuffled=False)\n",
    "X_test = np.load('../notebooks/data/X_test_transformed_by_50_components.npy')\n",
    "print(\"X_test shape: {}.  y_test shape: {}\".format(X_test.shape, y_test.shape))\n",
    "\n"
   ]
  },
  {
   "cell_type": "code",
   "execution_count": null,
   "metadata": {
    "collapsed": false
   },
   "outputs": [],
   "source": [
    "N_points = 60000\n",
    "assert X_train_untransformed.shape[0] == N_points\n",
    "assert X_train.shape[0] == N_points"
   ]
  },
  {
   "cell_type": "markdown",
   "metadata": {},
   "source": [
    "## Q 5.1: \n",
    "\n",
    "k = 16, MNIST data transformed by first 50 PCA components."
   ]
  },
  {
   "cell_type": "code",
   "execution_count": null,
   "metadata": {
    "collapsed": false
   },
   "outputs": [],
   "source": [
    "km_16 = KMeans(k=16, train_X=X_train, train_y=y_train, \n",
    "            pca_obj=pca_training,\n",
    "            max_iter = 500, \n",
    "            test_X=X_test, test_y=y_test,\n",
    "            verbose=False)\n",
    "km_16.run()"
   ]
  },
  {
   "cell_type": "markdown",
   "metadata": {},
   "source": [
    "(a) The squared reconstruction error vs iteration number."
   ]
  },
  {
   "cell_type": "code",
   "execution_count": null,
   "metadata": {
    "collapsed": false
   },
   "outputs": [],
   "source": [
    "km_16_reconstruction_error = km_16.plot_squared_reconstruction_error()\n",
    "km_16_reconstruction_error.savefig('../figures/k_means/k16_reconstruction_error.pdf',\n",
    "                                  bbox_inches='tight')"
   ]
  },
  {
   "cell_type": "code",
   "execution_count": null,
   "metadata": {
    "collapsed": false
   },
   "outputs": [],
   "source": [
    "km_16_reconstruction_error = km_16.plot_squared_reconstruction_error()\n",
    "km_16_reconstruction_error.savefig('../figures/k_means/k16_reconstruction_error.pdf',\n",
    "                                  bbox_inches='tight')"
   ]
  },
  {
   "cell_type": "code",
   "execution_count": null,
   "metadata": {
    "collapsed": false
   },
   "outputs": [],
   "source": [
    "km_16.results_df.tail(2)"
   ]
  },
  {
   "cell_type": "code",
   "execution_count": null,
   "metadata": {
    "collapsed": false
   },
   "outputs": [],
   "source": [
    "km_16_reconstruction_error_nromalized = \\\n",
    "    km_16.plot_squared_reconstruction_error_normalized()"
   ]
  },
  {
   "cell_type": "code",
   "execution_count": null,
   "metadata": {
    "collapsed": false
   },
   "outputs": [],
   "source": [
    "km_16_0_1_loss = km_16.plot_0_1_loss()\n",
    "km_16_0_1_loss.savefig('../figures/k_means/k16_loss_01.pdf',\n",
    "                       bbox_inches='tight')"
   ]
  },
  {
   "cell_type": "markdown",
   "metadata": {},
   "source": [
    "(b) Let us say that the number of assignments for a mean is the number of points assigned to that\n",
    "mean. Plot the number of assignments for each center in descending order."
   ]
  },
  {
   "cell_type": "code",
   "execution_count": null,
   "metadata": {
    "collapsed": false
   },
   "outputs": [],
   "source": [
    "km_16_assignment_bars = km_16.plot_num_assignments_for_each_center()\n",
    "km_16_assignment_bars.savefig('../figures/k_means/k16_assignment_bars.pdf',\n",
    "                             bbox_inches='tight')"
   ]
  },
  {
   "cell_type": "markdown",
   "metadata": {},
   "source": [
    "(c) Visualize the 16 centers that you learned, and display them in an order in that corresponds to\n",
    "the frequency in which they were assigned (if you use a grid, just describe the ordering)."
   ]
  },
  {
   "cell_type": "code",
   "execution_count": null,
   "metadata": {
    "collapsed": false
   },
   "outputs": [],
   "source": [
    "km_16.visualize_center(km_16.center_coordinates[0])"
   ]
  },
  {
   "cell_type": "code",
   "execution_count": null,
   "metadata": {
    "collapsed": false
   },
   "outputs": [],
   "source": [
    "km_16.visualize_n_centers(16, top=True)"
   ]
  },
  {
   "cell_type": "markdown",
   "metadata": {},
   "source": [
    "## Q 5.2 \n",
    "\n",
    "k = 250, MNIST data transformed by first 50 PCA components."
   ]
  },
  {
   "cell_type": "code",
   "execution_count": null,
   "metadata": {
    "collapsed": false
   },
   "outputs": [],
   "source": [
    "km_250 = KMeans(k=250, train_X=X_train, train_y=y_train, \n",
    "            pca_obj=pca_training,\n",
    "            max_iter = 500,\n",
    "            test_X=X_test, test_y=y_test,\n",
    "            verbose=False)\n",
    "km_250.run()"
   ]
  },
  {
   "cell_type": "markdown",
   "metadata": {},
   "source": [
    "(a) The squared reconstruction error vs iteration number."
   ]
  },
  {
   "cell_type": "code",
   "execution_count": null,
   "metadata": {
    "collapsed": false
   },
   "outputs": [],
   "source": [
    "km_250_reconstruction = km_250.plot_squared_reconstruction_error()\n",
    "km_250_reconstruction.savefig('../figures/k_means/k250_reconstruction_error.pdf',\n",
    "                             bbox_inches='tight')"
   ]
  },
  {
   "cell_type": "code",
   "execution_count": null,
   "metadata": {
    "collapsed": false
   },
   "outputs": [],
   "source": [
    "km_250.results_df.tail(1).T"
   ]
  },
  {
   "cell_type": "markdown",
   "metadata": {},
   "source": [
    "(b) Let us say that the number of assignments for a mean is the number of points assigned to that\n",
    "mean. Plot the number of assignments for each center in descending order."
   ]
  },
  {
   "cell_type": "code",
   "execution_count": null,
   "metadata": {
    "collapsed": false
   },
   "outputs": [],
   "source": [
    "km_250_assignment_bars = km_250.plot_num_assignments_for_each_center()\n",
    "km_250_assignment_bars.savefig('../figures/k_means/k250_assignment_bars.pdf',\n",
    "                              bbox_inches='tight')"
   ]
  },
  {
   "cell_type": "markdown",
   "metadata": {},
   "source": [
    "(c) Visualize 16 of these centers, chosen randomly. Display them in the order in an order in that\n",
    "corresponds to the frequency in which they were assigned."
   ]
  },
  {
   "cell_type": "code",
   "execution_count": null,
   "metadata": {
    "collapsed": false
   },
   "outputs": [],
   "source": [
    "km_250.visualize_n_centers(16, top=True)"
   ]
  },
  {
   "cell_type": "code",
   "execution_count": null,
   "metadata": {
    "collapsed": false
   },
   "outputs": [],
   "source": [
    "km_250.visualize_n_centers(16, top=False)"
   ]
  },
  {
   "cell_type": "code",
   "execution_count": null,
   "metadata": {
    "collapsed": false
   },
   "outputs": [],
   "source": [
    "# just for fun\n",
    "km_250_loss_01 = km_250.plot_0_1_loss()"
   ]
  },
  {
   "cell_type": "markdown",
   "metadata": {
    "collapsed": true
   },
   "source": [
    "## 5.2 Classification with K-means"
   ]
  },
  {
   "cell_type": "markdown",
   "metadata": {},
   "source": [
    "1. (4 points) For K = 16, what are your training and test 0/1 losses?"
   ]
  },
  {
   "cell_type": "code",
   "execution_count": null,
   "metadata": {
    "collapsed": true
   },
   "outputs": [],
   "source": [
    "import copy"
   ]
  },
  {
   "cell_type": "code",
   "execution_count": null,
   "metadata": {
    "collapsed": true
   },
   "outputs": [],
   "source": [
    "    def assess_test_data(self):\n",
    "        test_model = copy.copy(self)\n",
    "        test_model.X = self.test_X\n",
    "        test_model.y = self.test_y\n",
    "        test_model.N, test_model.d = test_model.X.shape\n",
    "\n",
    "        ## model characteristics\n",
    "        #test_model.assignments = None # cluster assignment.  Does not know about labels.\n",
    "        #test_model.predictions = None # label assignment.  Does not know about cluster.\n",
    "\n",
    "        test_model.results_df = None\n",
    "        # todo: rename\n",
    "        test_model.results_df_cluster_assignment_counts = None\n",
    "\n",
    "        test_model.set_point_assignments()\n",
    "        test_model.set_centers_classes()\n",
    "        test_model.set_predicted_labels()\n",
    "\n",
    "        test_model.record_count_of_assignments_to_each_mean()\n",
    "        test_model.record_fit_statistics()\n",
    "        print(\"test results:\")\n",
    "        print(test_model.results_df.T)\n",
    "\n",
    "        self.test_model = test_model\n",
    "        return test_model.results_df.T"
   ]
  },
  {
   "cell_type": "code",
   "execution_count": null,
   "metadata": {
    "collapsed": false
   },
   "outputs": [],
   "source": [
    "km_16_test_results = assess_test_data(km_16)"
   ]
  },
  {
   "cell_type": "code",
   "execution_count": null,
   "metadata": {
    "collapsed": false
   },
   "outputs": [],
   "source": [
    "print(km_16_test_results.to_latex())"
   ]
  },
  {
   "cell_type": "code",
   "execution_count": null,
   "metadata": {
    "collapsed": true
   },
   "outputs": [],
   "source": [
    "km_16.assess_test_data().to"
   ]
  },
  {
   "cell_type": "markdown",
   "metadata": {},
   "source": [
    "2. (4 points) For K = 250, what are your training and test 0/1 losses?"
   ]
  },
  {
   "cell_type": "code",
   "execution_count": null,
   "metadata": {
    "collapsed": false
   },
   "outputs": [],
   "source": [
    "km_250.assess_test_data()"
   ]
  },
  {
   "cell_type": "code",
   "execution_count": null,
   "metadata": {
    "collapsed": false
   },
   "outputs": [],
   "source": [
    "km_250_test_results = assess_test_data(km_250)\n",
    "print(\"\")\n",
    "print(km_250_test_results.to_latex())"
   ]
  },
  {
   "cell_type": "markdown",
   "metadata": {},
   "source": [
    "## Check out centers that appear to be a mix of digits."
   ]
  },
  {
   "cell_type": "markdown",
   "metadata": {},
   "source": [
    "for k = 16, center number 5 appears to be a blend of 5 and 8.  What are it's true labels? "
   ]
  },
  {
   "cell_type": "code",
   "execution_count": null,
   "metadata": {
    "collapsed": true
   },
   "outputs": [],
   "source": [
    "km_16.verbose = True"
   ]
  },
  {
   "cell_type": "code",
   "execution_count": null,
   "metadata": {
    "collapsed": false
   },
   "outputs": [],
   "source": [
    "km_16.clusters_by_num_in_cluster().head(6)"
   ]
  },
  {
   "cell_type": "code",
   "execution_count": null,
   "metadata": {
    "collapsed": false
   },
   "outputs": [],
   "source": [
    "km_16.set_centers_classes()"
   ]
  },
  {
   "cell_type": "code",
   "execution_count": null,
   "metadata": {
    "collapsed": true
   },
   "outputs": [],
   "source": []
  }
 ],
 "metadata": {
  "anaconda-cloud": {},
  "kernelspec": {
   "display_name": "Python [conda env:mlpy3]",
   "language": "python",
   "name": "conda-env-mlpy3-py"
  },
  "language_info": {
   "codemirror_mode": {
    "name": "ipython",
    "version": 3
   },
   "file_extension": ".py",
   "mimetype": "text/x-python",
   "name": "python",
   "nbconvert_exporter": "python",
   "pygments_lexer": "ipython3",
   "version": "3.5.2"
  }
 },
 "nbformat": 4,
 "nbformat_minor": 1
}
