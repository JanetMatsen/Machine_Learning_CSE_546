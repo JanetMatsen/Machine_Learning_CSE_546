{
 "cells": [
  {
   "cell_type": "code",
   "execution_count": 1,
   "metadata": {
    "collapsed": false
   },
   "outputs": [],
   "source": [
    "import numpy as np\n",
    "import scipy.sparse as sp\n",
    "\n",
    "from mnist import MNIST"
   ]
  },
  {
   "cell_type": "code",
   "execution_count": 2,
   "metadata": {
    "collapsed": true
   },
   "outputs": [],
   "source": [
    "from least_squares import ridge, analyze_results"
   ]
  },
  {
   "cell_type": "code",
   "execution_count": 3,
   "metadata": {
    "collapsed": true
   },
   "outputs": [],
   "source": [
    "import pandas as pd\n",
    "%matplotlib inline"
   ]
  },
  {
   "cell_type": "code",
   "execution_count": 4,
   "metadata": {
    "collapsed": true
   },
   "outputs": [],
   "source": [
    "mndata = MNIST('./python-mnist/data')\n",
    "train_ims, train_labels = mndata.load_training()\n",
    "test_ims, test_labels = mndata.load_testing()\n",
    "\n",
    "train_ims = np.array(train_ims)\n",
    "test_ims = np.array(test_ims)\n",
    "train_istwo = np.array([int(x==2) for x in train_labels])\n",
    "test_istwo = np.array([int(x==2) for x in test_labels])"
   ]
  },
  {
   "cell_type": "code",
   "execution_count": 5,
   "metadata": {
    "collapsed": false
   },
   "outputs": [],
   "source": [
    "train_X = sp.csc_matrix(train_ims)\n",
    "train_y = sp.csc_matrix([train_istwo]).T"
   ]
  },
  {
   "cell_type": "raw",
   "metadata": {},
   "source": [
    "little_X = train_ims[0:500, :]\n",
    "little_y = train_istwo[0:500]\n",
    "print(little_X.shape)\n",
    "print(little_y.shape)\n",
    "little_X = sp.csc_matrix(little_X)\n",
    "little_y = sp.csc_matrix([little_y]).T"
   ]
  },
  {
   "cell_type": "code",
   "execution_count": 6,
   "metadata": {
    "collapsed": false
   },
   "outputs": [
    {
     "name": "stderr",
     "output_type": "stream",
     "text": [
      "/Users/janet/miniconda3/envs/mlpy3/lib/python3.5/site-packages/scipy/sparse/linalg/dsolve/linsolve.py:247: SparseEfficiencyWarning: splu requires CSC matrix format\n",
      "  warn('splu requires CSC matrix format', SparseEfficiencyWarning)\n",
      "/Users/janet/miniconda3/envs/mlpy3/lib/python3.5/site-packages/scipy/sparse/linalg/dsolve/linsolve.py:165: SparseEfficiencyWarning: spsolve is more efficient when sparse b is in the CSC matrix format\n",
      "  'is in the CSC matrix format', SparseEfficiencyWarning)\n"
     ]
    }
   ],
   "source": [
    "weights = ridge(X = train_X, y = train_y, lam = 0.05)"
   ]
  },
  {
   "cell_type": "code",
   "execution_count": 7,
   "metadata": {
    "collapsed": false
   },
   "outputs": [
    {
     "data": {
      "text/plain": [
       "<matplotlib.axes._subplots.AxesSubplot at 0x10d33ccc0>"
      ]
     },
     "execution_count": 7,
     "metadata": {},
     "output_type": "execute_result"
    },
    {
     "data": {
      "image/png": "[encoded data removed]",
      "text/plain": [
       "<matplotlib.figure.Figure at 0x10d33c240>"
      ]
     },
     "metadata": {},
     "output_type": "display_data"
    }
   ],
   "source": [
    "to_compare = pd.DataFrame({\n",
    "       'val': train_X.dot(weights).toarray()[:, 0],\n",
    "       'indicator': train_y.toarray()[:,0]})\n",
    "\n",
    "to_compare.plot(kind='scatter', x='val', y='indicator')"
   ]
  },
  {
   "cell_type": "code",
   "execution_count": 8,
   "metadata": {
    "collapsed": true
   },
   "outputs": [],
   "source": [
    "from least_squares import ridge, analyze_results"
   ]
  },
  {
   "cell_type": "code",
   "execution_count": null,
   "metadata": {
    "collapsed": false
   },
   "outputs": [
    {
     "name": "stdout",
     "output_type": "stream",
     "text": [
      "> /Users/janet/Machine_Learning_CSE_546/HW1/Q6_least_squares/least_squares.py(28)analyze_results()\n",
      "-> assert type(X) == sp.csc_matrix or type(X) == sp.csr_matrix\n",
      "(Pdb) n\n",
      "> /Users/janet/Machine_Learning_CSE_546/HW1/Q6_least_squares/least_squares.py(29)analyze_results()\n",
      "-> assert type(y) == sp.csr_matrix or type(y) == sp.csc_matrix\n",
      "(Pdb) \n",
      "> /Users/janet/Machine_Learning_CSE_546/HW1/Q6_least_squares/least_squares.py(31)analyze_results()\n",
      "-> y_predictions = X.dot(coeff).toarray()[:, 0]\n",
      "(Pdb) \n",
      "> /Users/janet/Machine_Learning_CSE_546/HW1/Q6_least_squares/least_squares.py(32)analyze_results()\n",
      "-> truth = y.toarray()[:,0]\n",
      "(Pdb) \n",
      "> /Users/janet/Machine_Learning_CSE_546/HW1/Q6_least_squares/least_squares.py(35)analyze_results()\n",
      "-> ys_for_3s = y_predictions[truth ==1]\n",
      "(Pdb) \n",
      "> /Users/janet/Machine_Learning_CSE_546/HW1/Q6_least_squares/least_squares.py(36)analyze_results()\n",
      "-> ys_for_other_numbers = y_predictions[truth == 0]\n",
      "(Pdb) \n",
      "> /Users/janet/Machine_Learning_CSE_546/HW1/Q6_least_squares/least_squares.py(38)analyze_results()\n",
      "-> true_positives = ys_for_3s [ys_for_3s >= cutoff]\n",
      "(Pdb) \n",
      "> /Users/janet/Machine_Learning_CSE_546/HW1/Q6_least_squares/least_squares.py(39)analyze_results()\n",
      "-> true_negatives = ys_for_other_numbers[ys_for_other_numbers <= cutoff]\n",
      "(Pdb) \n",
      "> /Users/janet/Machine_Learning_CSE_546/HW1/Q6_least_squares/least_squares.py(41)analyze_results()\n",
      "-> false_positives = ys_for_3s [ys_for_3s < cutoff]\n",
      "(Pdb) \n",
      "> /Users/janet/Machine_Learning_CSE_546/HW1/Q6_least_squares/least_squares.py(42)analyze_results()\n",
      "-> false_negatives = ys_for_other_numbers[ys_for_other_numbers > cutoff]\n",
      "(Pdb) \n",
      "> /Users/janet/Machine_Learning_CSE_546/HW1/Q6_least_squares/least_squares.py(45)analyze_results()\n",
      "-> len(false_positives) + len(false_negatives) == len(truth))\n",
      "(Pdb) \n",
      "--Return--\n",
      "> /Users/janet/Machine_Learning_CSE_546/HW1/Q6_least_squares/least_squares.py(45)analyze_results()->None\n",
      "-> len(false_positives) + len(false_negatives) == len(truth))\n",
      "(Pdb) \n",
      "--Call--\n",
      "> /Users/janet/miniconda3/envs/mlpy3/lib/python3.5/site-packages/IPython/core/displayhook.py(236)__call__()\n",
      "-> def __call__(self, result=None):\n",
      "(Pdb) \n",
      "> /Users/janet/miniconda3/envs/mlpy3/lib/python3.5/site-packages/IPython/core/displayhook.py(242)__call__()\n",
      "-> self.check_for_underscore()\n",
      "(Pdb) \n",
      "> /Users/janet/miniconda3/envs/mlpy3/lib/python3.5/site-packages/IPython/core/displayhook.py(243)__call__()\n",
      "-> if result is not None and not self.quiet():\n",
      "(Pdb) \n",
      "--Return--\n",
      "> /Users/janet/miniconda3/envs/mlpy3/lib/python3.5/site-packages/IPython/core/displayhook.py(243)__call__()->None\n",
      "-> if result is not None and not self.quiet():\n",
      "(Pdb) \n",
      "--Return--\n",
      "> <ipython-input-10-73e7c2d41de8>(1)<module>()->None\n",
      "-> analyze_results(train_X, train_y, weights, 0.29)\n",
      "(Pdb) \n",
      "> /Users/janet/miniconda3/envs/mlpy3/lib/python3.5/site-packages/IPython/core/interactiveshell.py(2884)run_code()\n",
      "-> sys.excepthook = old_excepthook\n"
     ]
    }
   ],
   "source": [
    "analyze_results(train_X, train_y, weights, 0.29)"
   ]
  },
  {
   "cell_type": "code",
   "execution_count": null,
   "metadata": {
    "collapsed": true
   },
   "outputs": [],
   "source": []
  }
 ],
 "metadata": {
  "kernelspec": {
   "display_name": "IPython (Python 3)",
   "language": "python",
   "name": "python3"
  },
  "language_info": {
   "codemirror_mode": {
    "name": "ipython",
    "version": 3
   },
   "file_extension": ".py",
   "mimetype": "text/x-python",
   "name": "python",
   "nbconvert_exporter": "python",
   "pygments_lexer": "ipython3",
   "version": "3.5.2"
  }
 },
 "nbformat": 4,
 "nbformat_minor": 0
}
