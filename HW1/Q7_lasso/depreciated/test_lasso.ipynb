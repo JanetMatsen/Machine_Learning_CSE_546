{
 "cells": [
  {
   "cell_type": "code",
   "execution_count": 1,
   "metadata": {
    "collapsed": false
   },
   "outputs": [
    {
     "data": {
      "text/plain": [
       "sys.version_info(major=3, minor=5, micro=2, releaselevel='final', serial=0)"
      ]
     },
     "execution_count": 1,
     "metadata": {},
     "output_type": "execute_result"
    }
   ],
   "source": [
    "import sys\n",
    "sys.version\n",
    "sys.version_info"
   ]
  },
  {
   "cell_type": "code",
   "execution_count": 2,
   "metadata": {
    "collapsed": true
   },
   "outputs": [],
   "source": [
    "import sys\n",
    "sys.path.append('../')"
   ]
  },
  {
   "cell_type": "code",
   "execution_count": 3,
   "metadata": {
    "collapsed": true
   },
   "outputs": [],
   "source": [
    "import scipy.sparse as sp\n",
    "import numpy as np"
   ]
  },
  {
   "cell_type": "code",
   "execution_count": 4,
   "metadata": {
    "collapsed": false
   },
   "outputs": [],
   "source": [
    "from lasso import SparseLasso"
   ]
  },
  {
   "cell_type": "code",
   "execution_count": 5,
   "metadata": {
    "collapsed": false
   },
   "outputs": [],
   "source": [
    "# try the code used in the scikit-learn example. \n",
    "skl_ex_X = sp.csc_matrix([[0.,0], [1, 1], [2, 2]])\n",
    "skl_ex_Y = np.array([0, 1, 2])"
   ]
  },
  {
   "cell_type": "code",
   "execution_count": 6,
   "metadata": {
    "collapsed": false
   },
   "outputs": [
    {
     "data": {
      "text/plain": [
       "<1x3 sparse matrix of type '<class 'numpy.int64'>'\n",
       "\twith 2 stored elements in Compressed Sparse Column format>"
      ]
     },
     "execution_count": 6,
     "metadata": {},
     "output_type": "execute_result"
    }
   ],
   "source": [
    "sp.csc_matrix(np.array([[0, 1, 2]]))"
   ]
  },
  {
   "cell_type": "code",
   "execution_count": 7,
   "metadata": {
    "collapsed": false
   },
   "outputs": [
    {
     "name": "stdout",
     "output_type": "stream",
     "text": [
      "> /Users/janet/Machine_Learning_CSE_546/HW1/Q7_lasso/lasso.py(28)__init__()\n",
      "-> if w is None:\n",
      "(Pdb) c\n",
      "0.098750036122\n",
      "  (0, 0)\t0.0\n",
      "  (1, 0)\t0.975104098956\n"
     ]
    },
    {
     "data": {
      "text/plain": [
       "array([[ 0.       ],\n",
       "       [ 0.9751041]])"
      ]
     },
     "execution_count": 7,
     "metadata": {},
     "output_type": "execute_result"
    }
   ],
   "source": [
    "lasso_toy = SparseLasso(X = skl_ex_X, \n",
    "            y = skl_ex_Y,\n",
    "            lam = 0.1,\n",
    "            #w = np.array([0., 0.]),\n",
    "            verbose = True\n",
    "           )\n",
    "lasso_toy.run()\n",
    "lasso_toy.w.toarray()"
   ]
  },
  {
   "cell_type": "code",
   "execution_count": 8,
   "metadata": {
    "collapsed": false
   },
   "outputs": [
    {
     "name": "stdout",
     "output_type": "stream",
     "text": [
      "[[ 0.       ]\n",
      " [ 0.9751041]]\n",
      "\n",
      "0.0248265017407\n",
      "\n",
      "0.098750036122\n",
      "\n",
      "[[ 0.0248265]\n",
      " [ 0.9999306]\n",
      " [ 1.9750347]]\n"
     ]
    }
   ],
   "source": [
    "print(lasso_toy.w.toarray())\n",
    "print(\"\")\n",
    "print(lasso_toy.w0)\n",
    "print(\"\")\n",
    "print(lasso_toy.objective())\n",
    "print(\"\")\n",
    "print(lasso_toy.calc_yhat())"
   ]
  },
  {
   "cell_type": "markdown",
   "metadata": {},
   "source": [
    "# Compare to sklearn"
   ]
  },
  {
   "cell_type": "code",
   "execution_count": 9,
   "metadata": {
    "collapsed": false
   },
   "outputs": [
    {
     "name": "stdout",
     "output_type": "stream",
     "text": [
      "[  9.75000000e-01   4.16333634e-17]\n",
      "0.025\n",
      "[ 0.025  1.     1.975]\n"
     ]
    }
   ],
   "source": [
    "from sklearn import linear_model\n",
    "lam = 0.1\n",
    "alpha = lam/(2*3)  # hard coded for 3 sample points. \n",
    "clf = linear_model.Lasso(alpha)  # 3 samples  http://scikit-learn.org/stable/modules/generated/sklearn.linear_model.Lasso.html\n",
    "clf.fit([[0.,0], [1, 1], [2, 2]], [0., 1, 2])\n",
    "\n",
    "print(clf.coef_)\n",
    "print(clf.intercept_)\n",
    "print(clf.predict([[0.,0], [1, 1], [2, 2]]))\n"
   ]
  },
  {
   "cell_type": "markdown",
   "metadata": {},
   "source": [
    "# High-printing test case"
   ]
  },
  {
   "cell_type": "code",
   "execution_count": 10,
   "metadata": {
    "collapsed": true
   },
   "outputs": [],
   "source": [
    "# try the code used in the scikit-learn example. \n",
    "toy_X = sp.csc_matrix([[0.,1], [1, 2], [2, 3]])\n",
    "toy_Y = np.array([2., 5, 8])"
   ]
  },
  {
   "cell_type": "code",
   "execution_count": 11,
   "metadata": {
    "collapsed": false
   },
   "outputs": [
    {
     "name": "stdout",
     "output_type": "stream",
     "text": [
      "> /Users/janet/Machine_Learning_CSE_546/HW1/Q7_lasso/lasso.py(28)__init__()\n",
      "-> if w is None:\n",
      "(Pdb) c\n"
     ]
    }
   ],
   "source": [
    "toy = SparseLasso(X = toy_X, \n",
    "            y = toy_Y,\n",
    "            lam = 0.1,\n",
    "            #w = np.array([0., 0.]),\n",
    "            verbose = True\n",
    "           )"
   ]
  },
  {
   "cell_type": "code",
   "execution_count": 12,
   "metadata": {
    "collapsed": false
   },
   "outputs": [
    {
     "name": "stdout",
     "output_type": "stream",
     "text": [
      "0.298750064354\n",
      "  (0, 0)\t2.2406977257\n",
      "  (1, 0)\t0.734136201636\n"
     ]
    }
   ],
   "source": [
    "toy.run()"
   ]
  },
  {
   "cell_type": "code",
   "execution_count": 13,
   "metadata": {
    "collapsed": false
   },
   "outputs": [
    {
     "name": "stdout",
     "output_type": "stream",
     "text": [
      "[[ 2.24069773]\n",
      " [ 0.7341362 ]]\n",
      "1.29108522858\n"
     ]
    }
   ],
   "source": [
    "print(toy.w.toarray())\n",
    "print(toy.w0)"
   ]
  },
  {
   "cell_type": "code",
   "execution_count": 14,
   "metadata": {
    "collapsed": false
   },
   "outputs": [
    {
     "name": "stdout",
     "output_type": "stream",
     "text": [
      "[ 2.975  0.   ]\n",
      "2.025\n",
      "[ 2.025  5.     7.975]\n"
     ]
    }
   ],
   "source": [
    "from sklearn import linear_model\n",
    "lam = 0.1\n",
    "alpha = lam/(2*3)  # hard coded for 3 sample points. \n",
    "clf = linear_model.Lasso(alpha)  # 3 samples  http://scikit-learn.org/stable/modules/generated/sklearn.linear_model.Lasso.html\n",
    "clf.fit([[0.,1], [1, 2], [2, 3]], [2., 5, 8])\n",
    "\n",
    "print(clf.coef_)\n",
    "print(clf.intercept_)\n",
    "print(clf.predict([[0.,1], [1, 2], [2, 3]]))\n"
   ]
  },
  {
   "cell_type": "code",
   "execution_count": null,
   "metadata": {
    "collapsed": true
   },
   "outputs": [],
   "source": []
  }
 ],
 "metadata": {
  "anaconda-cloud": {},
  "kernelspec": {
   "display_name": "Python [default]",
   "language": "python",
   "name": "python3"
  },
  "language_info": {
   "codemirror_mode": {
    "name": "ipython",
    "version": 3
   },
   "file_extension": ".py",
   "mimetype": "text/x-python",
   "name": "python",
   "nbconvert_exporter": "python",
   "pygments_lexer": "ipython3",
   "version": "3.5.2"
  }
 },
 "nbformat": 4,
 "nbformat_minor": 0
}
