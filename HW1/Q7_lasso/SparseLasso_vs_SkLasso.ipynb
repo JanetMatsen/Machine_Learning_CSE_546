{
 "cells": [
  {
   "cell_type": "code",
   "execution_count": 1,
   "metadata": {
    "collapsed": false
   },
   "outputs": [],
   "source": [
    "import scipy.sparse as sp\n",
    "import numpy as np\n",
    "from lasso import SparseLasso"
   ]
  },
  {
   "cell_type": "code",
   "execution_count": 2,
   "metadata": {
    "collapsed": true
   },
   "outputs": [],
   "source": [
    "from lasso import sklearn_comparison"
   ]
  },
  {
   "cell_type": "markdown",
   "metadata": {},
   "source": [
    "## Test 1: very degenerate sklearn example"
   ]
  },
  {
   "cell_type": "code",
   "execution_count": 3,
   "metadata": {
    "collapsed": false
   },
   "outputs": [],
   "source": [
    "skl_ex_X = np.array([[0.,0], [1, 1], [2, 2]])\n",
    "skl_ex_Y = np.array([0, 1, 2])"
   ]
  },
  {
   "cell_type": "code",
   "execution_count": 4,
   "metadata": {
    "collapsed": false
   },
   "outputs": [
    {
     "data": {
      "text/plain": [
       "{'intercept': 0.025000000000000022,\n",
       " 'objective': 0.098750000000000004,\n",
       " 'weights': array([  9.75000000e-01,   4.16333634e-17])}"
      ]
     },
     "execution_count": 4,
     "metadata": {},
     "output_type": "execute_result"
    }
   ],
   "source": [
    "sklearn_comparison(skl_ex_X, skl_ex_Y, lam = 0.1)"
   ]
  },
  {
   "cell_type": "code",
   "execution_count": 5,
   "metadata": {
    "collapsed": false
   },
   "outputs": [
    {
     "name": "stdout",
     "output_type": "stream",
     "text": [
      "0.098750036122\n",
      "  (0, 0)\t0.0\n",
      "  (1, 0)\t0.975104098956\n"
     ]
    },
    {
     "data": {
      "text/plain": [
       "0.098750036121975179"
      ]
     },
     "execution_count": 5,
     "metadata": {},
     "output_type": "execute_result"
    }
   ],
   "source": [
    "lasso_toy = SparseLasso(X = skl_ex_X, \n",
    "            y = skl_ex_Y,\n",
    "            lam = 0.1)\n",
    "lasso_toy.run()\n",
    "lasso_toy.objective()"
   ]
  },
  {
   "cell_type": "markdown",
   "metadata": {},
   "source": [
    "## Test 2: less degenerate modification of sklearn example"
   ]
  },
  {
   "cell_type": "code",
   "execution_count": 6,
   "metadata": {
    "collapsed": false
   },
   "outputs": [],
   "source": [
    "X = np.array([[0.,1], [1, 2], [2, 3]])\n",
    "Y = np.array([2., 5, 8])\n",
    "lam = 0.1"
   ]
  },
  {
   "cell_type": "code",
   "execution_count": 7,
   "metadata": {
    "collapsed": false
   },
   "outputs": [
    {
     "data": {
      "text/plain": [
       "{'intercept': 2.0249999999999999,\n",
       " 'objective': 0.29875000000000007,\n",
       " 'weights': array([ 2.975,  0.   ])}"
      ]
     },
     "execution_count": 7,
     "metadata": {},
     "output_type": "execute_result"
    }
   ],
   "source": [
    "sklearn_comparison(X, Y, lam = lam)"
   ]
  },
  {
   "cell_type": "code",
   "execution_count": 8,
   "metadata": {
    "collapsed": false
   },
   "outputs": [
    {
     "name": "stdout",
     "output_type": "stream",
     "text": [
      "0.298750064354\n",
      "  (0, 0)\t2.2406977257\n",
      "  (1, 0)\t0.734136201636\n"
     ]
    },
    {
     "data": {
      "text/plain": [
       "0.29875006435363688"
      ]
     },
     "execution_count": 8,
     "metadata": {},
     "output_type": "execute_result"
    }
   ],
   "source": [
    "lasso_toy = SparseLasso(X = X, y = Y, lam = lam)\n",
    "lasso_toy.run()\n",
    "lasso_toy.objective()"
   ]
  },
  {
   "cell_type": "markdown",
   "metadata": {},
   "source": [
    "## Test 3: \"big\" data"
   ]
  },
  {
   "cell_type": "code",
   "execution_count": 9,
   "metadata": {
    "collapsed": true
   },
   "outputs": [],
   "source": [
    "X = np.array([[0., 1, 4, 5, 6, 9], [1, 2., 0, 0 , 3, 4], [2, 3, 4, 6, 7, 1.]])\n",
    "Y = np.array([2., 5, 8])\n",
    "lam = 0.1"
   ]
  },
  {
   "cell_type": "code",
   "execution_count": 10,
   "metadata": {
    "collapsed": false
   },
   "outputs": [
    {
     "data": {
      "text/plain": [
       "0.086471604938274382"
      ]
     },
     "execution_count": 10,
     "metadata": {},
     "output_type": "execute_result"
    }
   ],
   "source": [
    "sklearn_comparison(X, Y, lam = lam)['objective']"
   ]
  },
  {
   "cell_type": "code",
   "execution_count": 11,
   "metadata": {
    "collapsed": false
   },
   "outputs": [
    {
     "name": "stdout",
     "output_type": "stream",
     "text": [
      "0.0864720343476\n",
      "  (0, 0)\t0.0\n",
      "  (1, 0)\t0.0\n",
      "  (2, 0)\t0.0\n",
      "  (3, 0)\t0.130795519115\n",
      "  (4, 0)\t0.0\n",
      "  (5, 0)\t-0.731815580563\n"
     ]
    },
    {
     "data": {
      "text/plain": [
       "0.086472034347620935"
      ]
     },
     "execution_count": 11,
     "metadata": {},
     "output_type": "execute_result"
    }
   ],
   "source": [
    "lasso_toy = SparseLasso(X = X, y = Y, lam = lam, verbose = False)\n",
    "lasso_toy.run()\n",
    "lasso_toy.objective()"
   ]
  },
  {
   "cell_type": "code",
   "execution_count": null,
   "metadata": {
    "collapsed": true
   },
   "outputs": [],
   "source": []
  }
 ],
 "metadata": {
  "anaconda-cloud": {},
  "kernelspec": {
   "display_name": "Python [default]",
   "language": "python",
   "name": "python3"
  },
  "language_info": {
   "codemirror_mode": {
    "name": "ipython",
    "version": 3
   },
   "file_extension": ".py",
   "mimetype": "text/x-python",
   "name": "python",
   "nbconvert_exporter": "python",
   "pygments_lexer": "ipython3",
   "version": "3.5.2"
  }
 },
 "nbformat": 4,
 "nbformat_minor": 1
}
