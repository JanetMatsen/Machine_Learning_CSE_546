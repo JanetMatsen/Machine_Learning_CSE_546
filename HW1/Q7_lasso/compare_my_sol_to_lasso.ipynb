{
 "cells": [
  {
   "cell_type": "code",
   "execution_count": null,
   "metadata": {
    "collapsed": true
   },
   "outputs": [],
   "source": [
    "import scipy.sparse as sp\n",
    "import numpy as np\n",
    "from lasso import Lasso"
   ]
  },
  {
   "cell_type": "code",
   "execution_count": null,
   "metadata": {
    "collapsed": true
   },
   "outputs": [],
   "source": [
    "from lasso import sklearn_comparison"
   ]
  },
  {
   "cell_type": "markdown",
   "metadata": {},
   "source": [
    "## Test 1: very degenerate sklearn example"
   ]
  },
  {
   "cell_type": "code",
   "execution_count": null,
   "metadata": {
    "collapsed": true
   },
   "outputs": [],
   "source": [
    "skl_ex_X = sp.csc_matrix([[0.,0], [1, 1], [2, 2]])\n",
    "skl_ex_Y = np.array([[0, 1, 2]]).T"
   ]
  },
  {
   "cell_type": "code",
   "execution_count": null,
   "metadata": {
    "collapsed": false
   },
   "outputs": [],
   "source": [
    "sklearn_comparison(skl_ex_X, skl_ex_Y, lam = 0.1)"
   ]
  },
  {
   "cell_type": "code",
   "execution_count": null,
   "metadata": {
    "collapsed": false
   },
   "outputs": [],
   "source": [
    "lasso_toy = Lasso(X = skl_ex_X, \n",
    "            y = skl_ex_Y,\n",
    "            lam = 0.1,\n",
    "            w = sp.csc_matrix([[0., 0.]]).T)\n",
    "lasso_toy.optimize_weights()\n",
    "lasso_toy.calc_objective_fun()"
   ]
  },
  {
   "cell_type": "markdown",
   "metadata": {},
   "source": [
    "## Test 2: less degenerate modification of sklearn example"
   ]
  },
  {
   "cell_type": "code",
   "execution_count": null,
   "metadata": {
    "collapsed": false
   },
   "outputs": [],
   "source": [
    "X = sp.csc_matrix([[0.,1], [1, 2], [2, 3]])\n",
    "Y = np.array([[2., 5, 8]]).T\n",
    "w = sp.csc_matrix(np.ones(X.shape[1])*1.1).T\n",
    "lam = 0.1"
   ]
  },
  {
   "cell_type": "code",
   "execution_count": null,
   "metadata": {
    "collapsed": false
   },
   "outputs": [],
   "source": [
    "sklearn_comparison(X, Y, lam = lam)"
   ]
  },
  {
   "cell_type": "code",
   "execution_count": null,
   "metadata": {
    "collapsed": false
   },
   "outputs": [],
   "source": [
    "lasso_toy = Lasso(X = X, y = Y, lam = lam, w = w)\n",
    "lasso_toy.optimize_weights()\n",
    "lasso_toy.calc_objective_fun()"
   ]
  },
  {
   "cell_type": "markdown",
   "metadata": {},
   "source": [
    "## Test 3: \"big\" data"
   ]
  },
  {
   "cell_type": "code",
   "execution_count": null,
   "metadata": {
    "collapsed": true
   },
   "outputs": [],
   "source": [
    "X = sp.csc_matrix([[0., 1, 4, 5, 6, 9], [1, 2., 0, 0 , 3, 4], [2, 3, 4, 6, 7, 1.]])\n",
    "Y = np.array([[2., 5, 8]]).T\n",
    "w = sp.csc_matrix(np.ones(X.shape[1])*1.1).T\n",
    "lam = 0.1"
   ]
  },
  {
   "cell_type": "code",
   "execution_count": null,
   "metadata": {
    "collapsed": false
   },
   "outputs": [],
   "source": [
    "sklearn_comparison(X, Y, lam = lam)['objective']"
   ]
  },
  {
   "cell_type": "code",
   "execution_count": null,
   "metadata": {
    "collapsed": false
   },
   "outputs": [],
   "source": [
    "lasso_toy = Lasso(X = X, y = Y, lam = lam, w = w, verbose = True)\n",
    "lasso_toy.optimize_weights()\n",
    "lasso_toy.calc_objective_fun()"
   ]
  },
  {
   "cell_type": "code",
   "execution_count": null,
   "metadata": {
    "collapsed": true
   },
   "outputs": [],
   "source": []
  }
 ],
 "metadata": {
  "anaconda-cloud": {},
  "kernelspec": {
   "display_name": "Python [default]",
   "language": "python",
   "name": "python3"
  },
  "language_info": {
   "codemirror_mode": {
    "name": "ipython",
    "version": 3
   },
   "file_extension": ".py",
   "mimetype": "text/x-python",
   "name": "python",
   "nbconvert_exporter": "python",
   "pygments_lexer": "ipython3",
   "version": "3.5.2"
  }
 },
 "nbformat": 4,
 "nbformat_minor": 1
}
