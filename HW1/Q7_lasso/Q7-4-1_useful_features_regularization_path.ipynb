{
 "cells": [
  {
   "cell_type": "code",
   "execution_count": null,
   "metadata": {
    "collapsed": false
   },
   "outputs": [],
   "source": [
    "import numpy as np\n",
    "import pandas as pd\n",
    "import scipy.io as io\n",
    "import scipy.sparse as sp"
   ]
  },
  {
   "cell_type": "code",
   "execution_count": null,
   "metadata": {
    "collapsed": false
   },
   "outputs": [],
   "source": [
    "from lasso import RegularizationPathTrainTest"
   ]
  },
  {
   "cell_type": "code",
   "execution_count": null,
   "metadata": {
    "collapsed": true
   },
   "outputs": [],
   "source": [
    "import matplotlib.pyplot as plt\n",
    "import matplotlib as mpl\n",
    "\n",
    "%matplotlib inline\n",
    "%config InlineBackend.figure_formats=['svg']\n",
    "\n",
    "import seaborn as sns"
   ]
  },
  {
   "cell_type": "markdown",
   "metadata": {},
   "source": [
    "### Upvote data"
   ]
  },
  {
   "cell_type": "code",
   "execution_count": null,
   "metadata": {
    "collapsed": false
   },
   "outputs": [],
   "source": [
    "# Load a text file of integers:\n",
    "y = np.loadtxt(\"yelp_data/upvote_labels.txt\", dtype=np.int)\n",
    "# Load a text file with strings identifying the 1000 features:\n",
    "featureNames = open(\"yelp_data/upvote_features.txt\").read().splitlines()\n",
    "featureNames = np.array(featureNames)\n",
    "# Load a csv of floats, which are the values of 1000 features (columns) for 6000 samples (rows):\n",
    "A = np.genfromtxt(\"yelp_data/upvote_data.csv\", delimiter=\",\")\n",
    "norms = np.apply_along_axis(np.linalg.norm,0,A)\n",
    "A = A / norms\n",
    "# print(np.apply_along_axis(np.linalg.norm,0,A))"
   ]
  },
  {
   "cell_type": "code",
   "execution_count": null,
   "metadata": {
    "collapsed": false
   },
   "outputs": [],
   "source": [
    "# Randomize input order\n",
    "np.random.seed(12345)\n",
    "shuffler = np.arange(len(y))\n",
    "np.random.shuffle(shuffler)\n",
    "A = A[shuffler,:]\n",
    "y = y[shuffler]"
   ]
  },
  {
   "cell_type": "markdown",
   "metadata": {},
   "source": [
    "In the Yelp Question in HW1, please normalize the data so that it has the same L2 norm. We will grade it either way, but please state clearly what you did to treat the yelp data, which is currently not normalized.\n",
    "\n",
    "http://stackoverflow.com/questions/7140738/numpy-divide-along-axis"
   ]
  },
  {
   "cell_type": "raw",
   "metadata": {
    "collapsed": false
   },
   "source": [
    "toy = np.array([[0., 1, 100.], [1, 10., 1000]])\n",
    "print(toy)\n",
    "norms = np.apply_along_axis(np.linalg.norm,0,toy)  # np.linalg.norm assumes L2\n",
    "toy = toy / norms\n",
    "print(toy)\n",
    "# check the norms:\n",
    "np.apply_along_axis(np.linalg.norm,0,toy)"
   ]
  },
  {
   "cell_type": "code",
   "execution_count": null,
   "metadata": {
    "collapsed": true
   },
   "outputs": [],
   "source": [
    "#data_splits = (4000, 5000) # HW setting\n",
    "data_splits = (2000, 2500)# faster setting"
   ]
  },
  {
   "cell_type": "code",
   "execution_count": null,
   "metadata": {
    "collapsed": false
   },
   "outputs": [],
   "source": [
    "A_train = A[:data_splits[0], :]; y_train = y[:data_splits[0]]\n",
    "A_val = A[data_splits[0]:data_splits[1], :]; y_val = y[data_splits[0]:data_splits[1]]\n",
    "A_test = A[data_splits[1]:, :]; y_test = y[data_splits[1]:]"
   ]
  },
  {
   "cell_type": "code",
   "execution_count": null,
   "metadata": {
    "collapsed": false
   },
   "outputs": [],
   "source": [
    "A_train.shape"
   ]
  },
  {
   "cell_type": "markdown",
   "metadata": {},
   "source": [
    "## Train models for varying lambda values.  Calculate training error for each model. \n"
   ]
  },
  {
   "cell_type": "code",
   "execution_count": null,
   "metadata": {
    "collapsed": false
   },
   "outputs": [],
   "source": [
    "result = RegularizationPathTrainTest(X_train=A_train[0:100, 0:50], y_train=y_train[0:100], feature_names=featureNames, lam_max=1, \n",
    "                                     X_val=A_val[0:100, 0:50], y_val=y_val[0:100,], steps=2, frac_decrease=0.05,\n",
    "                                    delta = 0.001)"
   ]
  },
  {
   "cell_type": "code",
   "execution_count": null,
   "metadata": {
    "collapsed": false
   },
   "outputs": [],
   "source": [
    "result.results_df"
   ]
  },
  {
   "cell_type": "code",
   "execution_count": null,
   "metadata": {
    "collapsed": false
   },
   "outputs": [],
   "source": [
    "result.analyze_path()"
   ]
  },
  {
   "cell_type": "code",
   "execution_count": null,
   "metadata": {
    "collapsed": false
   },
   "outputs": [],
   "source": [
    "result.results_df"
   ]
  },
  {
   "cell_type": "code",
   "execution_count": null,
   "metadata": {
    "collapsed": false
   },
   "outputs": [],
   "source": [
    "result = RegularizationPathTrainTest(X_train=A_train, y_train=y_train, feature_names=featureNames, lam_max=100, \n",
    "                                     X_val=A_val, y_val=y_val, steps=5, frac_decrease=0.7, delta=0.01)"
   ]
  },
  {
   "cell_type": "code",
   "execution_count": null,
   "metadata": {
    "collapsed": false
   },
   "outputs": [],
   "source": [
    "result.analyze_path()"
   ]
  },
  {
   "cell_type": "code",
   "execution_count": null,
   "metadata": {
    "collapsed": false
   },
   "outputs": [],
   "source": [
    "print(A_train.shape)\n",
    "print(A_val.shape)\n",
    "print(A_test.shape)"
   ]
  },
  {
   "cell_type": "code",
   "execution_count": null,
   "metadata": {
    "collapsed": false
   },
   "outputs": [],
   "source": [
    "#Assuming df is a pandas data frame with columns 'x', 'y', and 'label'\n",
    "fig, ax = plt.subplots(1, 1, figsize=(5, 4))\n",
    "colors = {1: 'gray', 10: 'b'}\n",
    "data = result.results_df.copy()\n",
    "plt.semilogx(data['lam'], data['RMSE (validation)'], linestyle='--', marker='o', color='g')\n",
    "plt.semilogx(data['lam'], data['RMSE (training)'], linestyle='--', marker='o', color='#D1D1D1')\n",
    "#for key,grp in data.groupby('sigma'):\n",
    "#    print (key)\n",
    "#    plt.semilogx(grp.lam, grp.recall, linestyle='--', marker='o', \n",
    "#             color=colors[key], label='sigma = {}'.format(key)) #, t, t**2, 'bs', t, t**3, 'g^')\n",
    "plt.legend(loc = 'best')\n",
    "plt.xlabel('lambda')\n",
    "plt.ylabel('RMSE')\n",
    "#ax.set_ylim([0.55, 1.05])"
   ]
  },
  {
   "cell_type": "code",
   "execution_count": null,
   "metadata": {
    "collapsed": false
   },
   "outputs": [],
   "source": [
    "#Assuming df is a pandas data frame with columns 'x', 'y', and 'label'\n",
    "fig, ax = plt.subplots(1, 1, figsize=(4,3))\n",
    "colors = {1: 'gray', 10: 'b'}\n",
    "data = result.results_df.copy()\n",
    "plt.semilogx(data['lam'], data['# nonzero coefficients'], linestyle='--', marker='o', color='b')\n",
    "#for key,grp in data.groupby('sigma'):\n",
    "#    print (key)\n",
    "#    plt.semilogx(grp.lam, grp.recall, linestyle='--', marker='o', \n",
    "#             color=colors[key], label='sigma = {}'.format(key)) #, t, t**2, 'bs', t, t**3, 'g^')\n",
    "plt.legend(loc = 'best')\n",
    "plt.xlabel('lambda')\n",
    "plt.ylabel('num nonzero coefficients')\n",
    "#ax.set_ylim([0.55, 1.05])"
   ]
  },
  {
   "cell_type": "code",
   "execution_count": null,
   "metadata": {
    "collapsed": false
   },
   "outputs": [],
   "source": [
    "assert False"
   ]
  },
  {
   "cell_type": "markdown",
   "metadata": {},
   "source": [
    "### Star data"
   ]
  },
  {
   "cell_type": "code",
   "execution_count": null,
   "metadata": {
    "collapsed": true
   },
   "outputs": [],
   "source": [
    "# Load a text file of integers:\n",
    "y = np.loadtxt(\"yelp_data/star_labels.txt\", dtype=np.int)\n",
    "# Load a text file with strings identifying the 2500 features:\n",
    "featureNames = open(\"yelp_data/star_features.txt\").read().splitlines()\n",
    "# Load a matrix market matrix with 45000 samples of 2500 features, convert it to csc format:\n",
    "A = sp.csc_matrix(io.mmread(\"yelp_data/star_data.mtx\"))"
   ]
  },
  {
   "cell_type": "code",
   "execution_count": null,
   "metadata": {
    "collapsed": true
   },
   "outputs": [],
   "source": []
  }
 ],
 "metadata": {
  "anaconda-cloud": {},
  "kernelspec": {
   "display_name": "Python [default]",
   "language": "python",
   "name": "python3"
  },
  "language_info": {
   "codemirror_mode": {
    "name": "ipython",
    "version": 3
   },
   "file_extension": ".py",
   "mimetype": "text/x-python",
   "name": "python",
   "nbconvert_exporter": "python",
   "pygments_lexer": "ipython3",
   "version": "3.5.2"
  }
 },
 "nbformat": 4,
 "nbformat_minor": 0
}
