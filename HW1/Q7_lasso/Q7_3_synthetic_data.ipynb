{
 "cells": [
  {
   "cell_type": "code",
   "execution_count": null,
   "metadata": {
    "collapsed": true
   },
   "outputs": [],
   "source": [
    "import scipy.sparse as sp\n",
    "import numpy as np\n",
    "from lasso import Lasso, generate_random_data\n",
    "\n",
    "import pandas as pd"
   ]
  },
  {
   "cell_type": "code",
   "execution_count": null,
   "metadata": {
    "collapsed": true
   },
   "outputs": [],
   "source": [
    "from lasso import sklearn_comparison"
   ]
  },
  {
   "cell_type": "code",
   "execution_count": null,
   "metadata": {
    "collapsed": true
   },
   "outputs": [],
   "source": [
    "from sklearn import linear_model"
   ]
  },
  {
   "cell_type": "code",
   "execution_count": null,
   "metadata": {
    "collapsed": false
   },
   "outputs": [],
   "source": [
    "# numpy.random.normal(loc=0.0, scale=1.0, size=None)\n",
    "np.random.normal(0, 1, 10)\n"
   ]
  },
  {
   "cell_type": "code",
   "execution_count": null,
   "metadata": {
    "collapsed": false
   },
   "outputs": [],
   "source": [
    "x = np.reshape(np.random.normal(0, 1, 15), newshape = (3, 5), order='C')\n",
    "print(x.shape)\n",
    "print(x)"
   ]
  },
  {
   "cell_type": "code",
   "execution_count": null,
   "metadata": {
    "collapsed": false
   },
   "outputs": [],
   "source": [
    "X, Y, w = generate_random_data(N=70, d=90, sigma=0.01, k=5)"
   ]
  },
  {
   "cell_type": "code",
   "execution_count": null,
   "metadata": {
    "collapsed": false
   },
   "outputs": [],
   "source": [
    "print(X.shape)\n",
    "X"
   ]
  },
  {
   "cell_type": "code",
   "execution_count": null,
   "metadata": {
    "collapsed": false
   },
   "outputs": [],
   "source": [
    "Y"
   ]
  },
  {
   "cell_type": "code",
   "execution_count": null,
   "metadata": {
    "collapsed": false
   },
   "outputs": [],
   "source": [
    "lam = 0.5\n",
    "alpha = lam/(X.shape[0]*2)\n",
    "clf = linear_model.Lasso(alpha)\n",
    "clf.fit(X, Y)\n",
    "clf.coef_"
   ]
  },
  {
   "cell_type": "code",
   "execution_count": null,
   "metadata": {
    "collapsed": false
   },
   "outputs": [],
   "source": [
    "#results = pd.DataFrame({\"lam\":[], \"percision\":[], \"sparsity\":[], })\n",
    "\n",
    "X, Y, true_weights = generate_random_data(N=50, d=75, sigma=1, k=5)\n",
    "print(true_weights)\n",
    "# sp.csc_matrix([[0.,0], [1, 1], [2, 2]])\n",
    "X = sp.csc_matrix(X)\n",
    "w = X[1,:].T  # initial weights for regression\n",
    "\n",
    "init_lam = 0.01\n",
    "frac_decrease = 0.7\n",
    "\n",
    "def results_for_sigma(sigma, X, Y, init_lam, init_w):\n",
    "    #results = pd.DataFrame({\"lam\":[], \"percision\":[], \"sparsity\":[], })\n",
    "    results = pd.DataFrame()\n",
    "    lam = init_lam/frac_decrease\n",
    "    for c in range(0,5):\n",
    "        lam = lam*frac_decrease\n",
    "        \n",
    "        # compute the \"correct\" answer: \n",
    "        #sklearn_weights = sklearn_comparison(X, Y, lam)['weights']\n",
    "        alpha = lam/X.shape[0]\n",
    "        clf = linear_model.Lasso(alpha)\n",
    "        clf.fit(X, Y)\n",
    "        sklearn_weights = clf.coef_\n",
    "        \n",
    "        # Compute my (hopefully correct) answer:\n",
    "        result = Lasso(X, Y, lam, init_w)\n",
    "        assert result.w.shape == (X.shape[1], 1) # check before we slice out\n",
    "        my_weights = result.w.toarray()[:,0] \n",
    "        \n",
    "        percision = calc_percision(true_weights, my_weights)\n",
    "        recall = calc_recall(true_weights, my_weights)\n",
    "        \n",
    "        one_val = pd.DataFrame({\"sigma\":[sigma], \"lam\":[lam], \n",
    "                                \"percision\":[percision], \"recall\":[recall], \n",
    "                                \"sklearn weights\":[sklearn_weights],\n",
    "                                \"my weights\":[my_weights]})\n",
    "        results = pd.concat([results, one_val])\n",
    "    return results\n",
    "\n",
    "def calc_percision(true_weights, regression_weights):\n",
    "    # (number of correct nonzeros in w^hat)/k\n",
    "    # True array for regression weight ~ 0:\n",
    "    true_weights = [abs(r) > 0.001 for r in true_weights]\n",
    "    regression_weights = [abs(r) > 0.001 for r in regression_weights]\n",
    "    # Zip these together and count pairs that are both True\n",
    "    agreement = [i == j for i,j in zip(true_weights,regression_weights)]   \n",
    "    return sum(agreement)/sum(true_weights)\n",
    "\n",
    "def calc_recall(true_weights, regression_weights):\n",
    "    return 99\n",
    "\n",
    "r_1 = results_for_sigma(sigma=1, X=X, Y=Y, init_lam=init_lam, init_w=w)\n",
    "\n",
    "#r_10 = results_for_sigma(sigma=10)\n",
    "\n",
    "r_1\n",
    "    "
   ]
  },
  {
   "cell_type": "code",
   "execution_count": null,
   "metadata": {
    "collapsed": false
   },
   "outputs": [],
   "source": [
    "r_1[['sklearn weights']]"
   ]
  },
  {
   "cell_type": "code",
   "execution_count": null,
   "metadata": {
    "collapsed": false
   },
   "outputs": [],
   "source": [
    "results = pd.DataFrame()\n",
    "one_val = pd.DataFrame({\"lam\":[0], \"percision\":[1], \"sparsity\":[2]})\n",
    "results = pd.concat([results, one_val, one_val])\n",
    "results"
   ]
  },
  {
   "cell_type": "code",
   "execution_count": null,
   "metadata": {
    "collapsed": false
   },
   "outputs": [],
   "source": [
    "d = pd.DataFrame()\n",
    "\n",
    "for p in game.players.passing():\n",
    "    temp = pd.DataFrame({'Player': p, 'Team': p.team, 'Passer Rating':\n",
    "        p.passer_rating()})\n",
    "\n",
    "    d = pd.concat([d, temp])"
   ]
  }
 ],
 "metadata": {
  "kernelspec": {
   "display_name": "Python [default]",
   "language": "python",
   "name": "python3"
  },
  "language_info": {
   "codemirror_mode": {
    "name": "ipython",
    "version": 3
   },
   "file_extension": ".py",
   "mimetype": "text/x-python",
   "name": "python",
   "nbconvert_exporter": "python",
   "pygments_lexer": "ipython3",
   "version": "3.5.2"
  }
 },
 "nbformat": 4,
 "nbformat_minor": 1
}
