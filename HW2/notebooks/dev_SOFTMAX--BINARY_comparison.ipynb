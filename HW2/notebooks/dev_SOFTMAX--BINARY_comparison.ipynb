{
 "cells": [
  {
   "cell_type": "code",
   "execution_count": 1,
   "metadata": {
    "collapsed": true
   },
   "outputs": [],
   "source": [
    "import numpy as np\n",
    "import matplotlib as mpl\n",
    "%matplotlib inline\n",
    "import pandas as pd\n",
    "import seaborn as sns"
   ]
  },
  {
   "cell_type": "code",
   "execution_count": 2,
   "metadata": {
    "collapsed": true
   },
   "outputs": [],
   "source": [
    "from sklearn.datasets import make_classification"
   ]
  },
  {
   "cell_type": "code",
   "execution_count": 3,
   "metadata": {
    "collapsed": true
   },
   "outputs": [],
   "source": [
    "import sys\n",
    "sys.path.append('../code/')"
   ]
  },
  {
   "cell_type": "code",
   "execution_count": 4,
   "metadata": {
    "collapsed": false
   },
   "outputs": [],
   "source": [
    "from logistic_regression import LogisticRegression\n",
    "from logistic_regression import LogisticRegressionBinary"
   ]
  },
  {
   "cell_type": "code",
   "execution_count": 5,
   "metadata": {
    "collapsed": false
   },
   "outputs": [
    {
     "data": {
      "text/plain": [
       "array([[ 1.,  0.],\n",
       "       [ 0.,  1.],\n",
       "       [ 0.,  1.]])"
      ]
     },
     "execution_count": 5,
     "metadata": {},
     "output_type": "execute_result"
    }
   ],
   "source": [
    "#X = np.array([[1, 0.], [0, 1]])   # np.array([[1, 0., 0], [0, 1, 0]])\n",
    "X = np.array([[1, 0.], [0, 1], [0, 1]])   # np.array([[1, 0., 0], [0, 1, 0]])\n",
    "X"
   ]
  },
  {
   "cell_type": "code",
   "execution_count": 6,
   "metadata": {
    "collapsed": false
   },
   "outputs": [
    {
     "data": {
      "text/plain": [
       "array([0, 1, 1])"
      ]
     },
     "execution_count": 6,
     "metadata": {},
     "output_type": "execute_result"
    }
   ],
   "source": [
    "# y = np.array([0, 1])\n",
    "y = np.array([0, 1, 1])\n",
    "y"
   ]
  },
  {
   "cell_type": "code",
   "execution_count": 7,
   "metadata": {
    "collapsed": false
   },
   "outputs": [
    {
     "name": "stdout",
     "output_type": "stream",
     "text": [
      "................................................................................................................................................................................................................................................................................................................................................................................................................................................................................................Loss optimized.  Old/N: 0.012048118197698639, new/N:0.012047121974418179\n"
     ]
    },
    {
     "data": {
      "text/html": [
       "<div>\n",
       "<table border=\"1\" class=\"dataframe\">\n",
       "  <thead>\n",
       "    <tr style=\"text-align: right;\">\n",
       "      <th></th>\n",
       "      <th>(0/1 loss)/N</th>\n",
       "      <th>-(log loss)</th>\n",
       "      <th>0/1 loss</th>\n",
       "      <th>bias</th>\n",
       "      <th>iteration</th>\n",
       "      <th>log loss</th>\n",
       "      <th>probability array</th>\n",
       "      <th>weights</th>\n",
       "    </tr>\n",
       "  </thead>\n",
       "  <tbody>\n",
       "    <tr>\n",
       "      <th>477</th>\n",
       "      <td>0.0</td>\n",
       "      <td>0.036147</td>\n",
       "      <td>0</td>\n",
       "      <td>0.235648</td>\n",
       "      <td>478</td>\n",
       "      <td>-0.036147</td>\n",
       "      <td>[0.0179930373925, 0.991045089432, 0.991045089432]</td>\n",
       "      <td>[-4.23542941941, 4.47107679584]</td>\n",
       "    </tr>\n",
       "    <tr>\n",
       "      <th>478</th>\n",
       "      <td>0.0</td>\n",
       "      <td>0.036144</td>\n",
       "      <td>0</td>\n",
       "      <td>0.235648</td>\n",
       "      <td>479</td>\n",
       "      <td>-0.036144</td>\n",
       "      <td>[0.0179915411316, 0.991045830577, 0.991045830577]</td>\n",
       "      <td>[-4.23542941941, 4.47107679584]</td>\n",
       "    </tr>\n",
       "    <tr>\n",
       "      <th>479</th>\n",
       "      <td>0.0</td>\n",
       "      <td>0.036141</td>\n",
       "      <td>0</td>\n",
       "      <td>0.235647</td>\n",
       "      <td>480</td>\n",
       "      <td>-0.036141</td>\n",
       "      <td>[0.0179900600773, 0.99104656419, 0.99104656419]</td>\n",
       "      <td>[-4.23542941941, 4.47107679584]</td>\n",
       "    </tr>\n",
       "  </tbody>\n",
       "</table>\n",
       "</div>"
      ],
      "text/plain": [
       "     (0/1 loss)/N  -(log loss)  0/1 loss      bias  iteration  log loss  \\\n",
       "477           0.0     0.036147         0  0.235648        478 -0.036147   \n",
       "478           0.0     0.036144         0  0.235648        479 -0.036144   \n",
       "479           0.0     0.036141         0  0.235647        480 -0.036141   \n",
       "\n",
       "                                     probability array  \\\n",
       "477  [0.0179930373925, 0.991045089432, 0.991045089432]   \n",
       "478  [0.0179915411316, 0.991045830577, 0.991045830577]   \n",
       "479    [0.0179900600773, 0.99104656419, 0.99104656419]   \n",
       "\n",
       "                             weights  \n",
       "477  [-4.23542941941, 4.47107679584]  \n",
       "478  [-4.23542941941, 4.47107679584]  \n",
       "479  [-4.23542941941, 4.47107679584]  "
      ]
     },
     "execution_count": 7,
     "metadata": {},
     "output_type": "execute_result"
    }
   ],
   "source": [
    "lrb = LogisticRegressionBinary(X = X, y=y, n0=1, lam=0)\n",
    "lrb.run()\n",
    "lrb.results.tail(3)"
   ]
  },
  {
   "cell_type": "code",
   "execution_count": 8,
   "metadata": {
    "collapsed": false
   },
   "outputs": [
    {
     "data": {
      "text/plain": [
       "-8.3188456792435139e-05"
      ]
     },
     "execution_count": 8,
     "metadata": {},
     "output_type": "execute_result"
    }
   ],
   "source": [
    "(lrb.y - lrb.probability_array()).sum()"
   ]
  },
  {
   "cell_type": "code",
   "execution_count": 9,
   "metadata": {
    "collapsed": false
   },
   "outputs": [
    {
     "data": {
      "text/plain": [
       "1e-05"
      ]
     },
     "execution_count": 9,
     "metadata": {},
     "output_type": "execute_result"
    }
   ],
   "source": [
    "10e-6"
   ]
  },
  {
   "cell_type": "code",
   "execution_count": 10,
   "metadata": {
    "collapsed": false
   },
   "outputs": [
    {
     "name": "stdout",
     "output_type": "stream",
     "text": [
      "..........................................................................................................................................................................................................................................................................................................................................................................................................................Loss optimized.  Old/N: 0.005960245741702781, new/N:0.005959253607806009\n"
     ]
    },
    {
     "data": {
      "text/html": [
       "<div>\n",
       "<table border=\"1\" class=\"dataframe\">\n",
       "  <thead>\n",
       "    <tr style=\"text-align: right;\">\n",
       "      <th></th>\n",
       "      <th>(0/1 loss)/N</th>\n",
       "      <th>-(log loss)</th>\n",
       "      <th>0/1 loss</th>\n",
       "      <th>bias</th>\n",
       "      <th>iteration</th>\n",
       "      <th>log loss</th>\n",
       "      <th>probability array</th>\n",
       "      <th>weights</th>\n",
       "    </tr>\n",
       "  </thead>\n",
       "  <tbody>\n",
       "    <tr>\n",
       "      <th>407</th>\n",
       "      <td>0.0</td>\n",
       "      <td>0.017884</td>\n",
       "      <td>0</td>\n",
       "      <td>[[-0.116650351427, 0.116650351427]]</td>\n",
       "      <td>408</td>\n",
       "      <td>-0.017884</td>\n",
       "      <td>[[0.991078029201, 0.00892197079924], [0.004450...</td>\n",
       "      <td>[[2.47178893279, -2.47178893279], [-2.58843966...</td>\n",
       "    </tr>\n",
       "    <tr>\n",
       "      <th>408</th>\n",
       "      <td>0.0</td>\n",
       "      <td>0.017881</td>\n",
       "      <td>0</td>\n",
       "      <td>[[-0.116650351427, 0.116650351427]]</td>\n",
       "      <td>409</td>\n",
       "      <td>-0.017881</td>\n",
       "      <td>[[0.991079526246, 0.00892047375416], [0.004450...</td>\n",
       "      <td>[[2.47187340129, -2.47187340129], [-2.58852394...</td>\n",
       "    </tr>\n",
       "    <tr>\n",
       "      <th>409</th>\n",
       "      <td>0.0</td>\n",
       "      <td>0.017878</td>\n",
       "      <td>0</td>\n",
       "      <td>[[-0.116650351427, 0.116650351427]]</td>\n",
       "      <td>410</td>\n",
       "      <td>-0.017878</td>\n",
       "      <td>[[0.991081007826, 0.00891899217391], [0.004449...</td>\n",
       "      <td>[[2.47195701107, -2.47195701107], [-2.58860736...</td>\n",
       "    </tr>\n",
       "  </tbody>\n",
       "</table>\n",
       "</div>"
      ],
      "text/plain": [
       "     (0/1 loss)/N  -(log loss)  0/1 loss                                 bias  \\\n",
       "407           0.0     0.017884         0  [[-0.116650351427, 0.116650351427]]   \n",
       "408           0.0     0.017881         0  [[-0.116650351427, 0.116650351427]]   \n",
       "409           0.0     0.017878         0  [[-0.116650351427, 0.116650351427]]   \n",
       "\n",
       "     iteration  log loss                                  probability array  \\\n",
       "407        408 -0.017884  [[0.991078029201, 0.00892197079924], [0.004450...   \n",
       "408        409 -0.017881  [[0.991079526246, 0.00892047375416], [0.004450...   \n",
       "409        410 -0.017878  [[0.991081007826, 0.00891899217391], [0.004449...   \n",
       "\n",
       "                                               weights  \n",
       "407  [[2.47178893279, -2.47178893279], [-2.58843966...  \n",
       "408  [[2.47187340129, -2.47187340129], [-2.58852394...  \n",
       "409  [[2.47195701107, -2.47195701107], [-2.58860736...  "
      ]
     },
     "execution_count": 10,
     "metadata": {},
     "output_type": "execute_result"
    }
   ],
   "source": [
    "lr = LogisticRegression(X = X, y=y, n0=1, lam=0)\n",
    "lr.run()\n",
    "lr.results.tail(3)"
   ]
  },
  {
   "cell_type": "code",
   "execution_count": 11,
   "metadata": {
    "collapsed": false
   },
   "outputs": [
    {
     "data": {
      "text/plain": [
       "array([-4.23542942,  4.4710768 ])"
      ]
     },
     "execution_count": 11,
     "metadata": {},
     "output_type": "execute_result"
    }
   ],
   "source": [
    "lrb.results.iloc[-1]['weights']"
   ]
  },
  {
   "cell_type": "code",
   "execution_count": 12,
   "metadata": {
    "collapsed": false
   },
   "outputs": [
    {
     "data": {
      "text/plain": [
       "array([[ 2.47195701, -2.47195701],\n",
       "       [-2.58860736,  2.58860736]])"
      ]
     },
     "execution_count": 12,
     "metadata": {},
     "output_type": "execute_result"
    }
   ],
   "source": [
    "lr.results.iloc[-1]['weights']"
   ]
  },
  {
   "cell_type": "code",
   "execution_count": 13,
   "metadata": {
    "collapsed": false
   },
   "outputs": [
    {
     "data": {
      "text/plain": [
       "array([ 0.01799006,  0.99104656,  0.99104656])"
      ]
     },
     "execution_count": 13,
     "metadata": {},
     "output_type": "execute_result"
    }
   ],
   "source": [
    "lrb.probability_array()"
   ]
  },
  {
   "cell_type": "code",
   "execution_count": 14,
   "metadata": {
    "collapsed": false
   },
   "outputs": [
    {
     "data": {
      "text/plain": [
       "array([[ 0.99108101,  0.00891899],\n",
       "       [ 0.00444945,  0.99555055],\n",
       "       [ 0.00444945,  0.99555055]])"
      ]
     },
     "execution_count": 14,
     "metadata": {},
     "output_type": "execute_result"
    }
   ],
   "source": [
    "lr.probability_array()"
   ]
  },
  {
   "cell_type": "code",
   "execution_count": 15,
   "metadata": {
    "collapsed": false
   },
   "outputs": [
    {
     "data": {
      "image/png": "[encoded data removed]",
      "text/plain": [
       "<matplotlib.figure.Figure at 0x10de025c0>"
      ]
     },
     "metadata": {},
     "output_type": "display_data"
    }
   ],
   "source": [
    "lr.plot_log_loss()"
   ]
  },
  {
   "cell_type": "code",
   "execution_count": 16,
   "metadata": {
    "collapsed": false
   },
   "outputs": [
    {
     "data": {
      "image/png": "[encoded data removed]",
      "text/plain": [
       "<matplotlib.figure.Figure at 0x111835d68>"
      ]
     },
     "metadata": {},
     "output_type": "display_data"
    }
   ],
   "source": [
    "lr.plot_01_loss()"
   ]
  },
  {
   "cell_type": "code",
   "execution_count": null,
   "metadata": {
    "collapsed": true
   },
   "outputs": [],
   "source": []
  }
 ],
 "metadata": {
  "anaconda-cloud": {},
  "kernelspec": {
   "display_name": "Python [conda env:mlpy3]",
   "language": "python",
   "name": "conda-env-mlpy3-py"
  },
  "language_info": {
   "codemirror_mode": {
    "name": "ipython",
    "version": 3
   },
   "file_extension": ".py",
   "mimetype": "text/x-python",
   "name": "python",
   "nbconvert_exporter": "python",
   "pygments_lexer": "ipython3",
   "version": "3.5.2"
  }
 },
 "nbformat": 4,
 "nbformat_minor": 1
}
