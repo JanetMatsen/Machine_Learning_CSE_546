{
 "cells": [
  {
   "cell_type": "code",
   "execution_count": 1,
   "metadata": {
    "collapsed": true
   },
   "outputs": [],
   "source": [
    "import numpy as np\n",
    "import matplotlib as mpl\n",
    "%matplotlib inline\n",
    "import time\n",
    "\n",
    "import pandas as pd\n",
    "import seaborn as sns\n",
    "\n",
    "from mnist import MNIST  # public package for making arrays out of MINST data."
   ]
  },
  {
   "cell_type": "code",
   "execution_count": 2,
   "metadata": {
    "collapsed": true
   },
   "outputs": [],
   "source": [
    "import sys\n",
    "sys.path.append('../code/')"
   ]
  },
  {
   "cell_type": "code",
   "execution_count": 3,
   "metadata": {
    "collapsed": false
   },
   "outputs": [],
   "source": [
    "from ridge_regression import RidgeMulti\n",
    "from hyperparameter_explorer import HyperparameterExplorer"
   ]
  },
  {
   "cell_type": "code",
   "execution_count": 4,
   "metadata": {
    "collapsed": true
   },
   "outputs": [],
   "source": [
    "from mnist_helpers import mnist_training, mnist_testing"
   ]
  },
  {
   "cell_type": "code",
   "execution_count": 5,
   "metadata": {
    "collapsed": true
   },
   "outputs": [],
   "source": [
    "import matplotlib.pyplot as plt\n",
    "from pylab import rcParams\n",
    "rcParams['figure.figsize'] = 4, 3"
   ]
  },
  {
   "cell_type": "code",
   "execution_count": 6,
   "metadata": {
    "collapsed": false
   },
   "outputs": [
    {
     "name": "stdout",
     "output_type": "stream",
     "text": [
      "[    0     1     2 ..., 59997 59998 59999]\n",
      "[   0    1    2 ..., 9997 9998 9999]\n"
     ]
    }
   ],
   "source": [
    "train_X, train_y = mnist_training()\n",
    "test_X, test_y = mnist_testing()"
   ]
  },
  {
   "cell_type": "markdown",
   "metadata": {},
   "source": [
    "## Make the big random matrix"
   ]
  },
  {
   "cell_type": "code",
   "execution_count": 7,
   "metadata": {
    "collapsed": false
   },
   "outputs": [],
   "source": [
    "R = np.random.normal(size=(train_X.shape[1], 10000))"
   ]
  },
  {
   "cell_type": "code",
   "execution_count": 8,
   "metadata": {
    "collapsed": false
   },
   "outputs": [],
   "source": [
    "XR = train_X.dot(R).clip(min=0)"
   ]
  },
  {
   "cell_type": "code",
   "execution_count": 9,
   "metadata": {
    "collapsed": false
   },
   "outputs": [],
   "source": [
    "XR = train_X.dot(R)"
   ]
  },
  {
   "cell_type": "markdown",
   "metadata": {},
   "source": [
    "## Do the crazy inversion"
   ]
  },
  {
   "cell_type": "markdown",
   "metadata": {},
   "source": [
    "http://www.ics.uci.edu/~welling/classnotes/papers_class/Kernel-Ridge.pdf"
   ]
  },
  {
   "cell_type": "code",
   "execution_count": 10,
   "metadata": {
    "collapsed": false
   },
   "outputs": [
    {
     "name": "stdout",
     "output_type": "stream",
     "text": [
      "59700 of 60000 points from training are reserved for validation\n",
      "variances of all training data: 8.34774452888889\n",
      "variances of split-off training & validation data: 8.097988888888889, 8.348885037976032\n"
     ]
    }
   ],
   "source": [
    "hyper_explorer = HyperparameterExplorer(X=XR, y=train_y, \n",
    "                                        model=RidgeMulti, \n",
    "                                        validation_split=0.995, score_name = 'training RMSE', \n",
    "                                        use_prev_best_weights=False,\n",
    "                                        test_X=test_X.dot(R), test_y=test_y)"
   ]
  },
  {
   "cell_type": "code",
   "execution_count": 11,
   "metadata": {
    "collapsed": false
   },
   "outputs": [
    {
     "name": "stdout",
     "output_type": "stream",
     "text": [
      "prediction time.\n",
      "invert matrix:\n",
      "time: Mon Oct 31 06:44:33 2016\n",
      "done inverting via kernel trick at time: Mon Oct 31 06:44:33 2016\n",
      "dot with H^T at time: Mon Oct 31 06:44:33 2016\n",
      "done dotting with H^T at time: Mon Oct 31 06:44:36 2016\n",
      "Apply weights to H(X): Mon Oct 31 06:44:36 2016\n",
      "Done applying weights to H(X): Mon Oct 31 06:44:36 2016\n",
      "prediction time.\n",
      "Apply weights to H(X): Mon Oct 31 06:44:36 2016\n",
      "Done applying weights to H(X): Mon Oct 31 06:44:36 2016\n",
      "Apply weights to H(X): Mon Oct 31 06:44:36 2016\n",
      "Done applying weights to H(X): Mon Oct 31 06:44:36 2016\n",
      "Apply weights to H(X): Mon Oct 31 06:44:36 2016\n",
      "Done applying weights to H(X): Mon Oct 31 06:44:36 2016\n",
      "prediction time.\n",
      "Apply weights to H(X): Mon Oct 31 06:44:36 2016\n",
      "Done applying weights to H(X): Mon Oct 31 06:44:36 2016\n",
      "Apply weights to H(X): Mon Oct 31 06:44:36 2016\n",
      "Done applying weights to H(X): Mon Oct 31 06:44:36 2016\n",
      "Apply weights to H(X): Mon Oct 31 06:44:36 2016\n",
      "Done applying weights to H(X): Mon Oct 31 06:44:37 2016\n",
      "prediction time.\n",
      "Apply weights to H(X): Mon Oct 31 06:45:50 2016\n",
      "Done applying weights to H(X): Mon Oct 31 06:46:08 2016\n",
      "Apply weights to H(X): Mon Oct 31 06:46:08 2016\n",
      "Done applying weights to H(X): Mon Oct 31 06:46:28 2016\n",
      "Apply weights to H(X): Mon Oct 31 06:46:28 2016\n",
      "Done applying weights to H(X): Mon Oct 31 06:46:48 2016\n"
     ]
    }
   ],
   "source": [
    "hyper_explorer.train_model(lam=100, kernelized=True, verbose=True)"
   ]
  },
  {
   "cell_type": "code",
   "execution_count": 12,
   "metadata": {
    "collapsed": false
   },
   "outputs": [],
   "source": [
    "# Boo.  We can't run vanilla ridge regression for a N=300 data set w/o the Kernel.\n",
    "# The inversion would be 10,000 by 10,000, causing a memory error. \n",
    "#hyper_explorer.train_model(lam=100, kernelized=False, verbose=True)"
   ]
  },
  {
   "cell_type": "code",
   "execution_count": 13,
   "metadata": {
    "collapsed": true
   },
   "outputs": [],
   "source": [
    "hyper_explorer.final_model = hyper_explorer.models[1].copy()"
   ]
  },
  {
   "cell_type": "code",
   "execution_count": 14,
   "metadata": {
    "collapsed": false
   },
   "outputs": [
    {
     "name": "stdout",
     "output_type": "stream",
     "text": [
      "prediction time.\n",
      "Apply weights to H(X): Mon Oct 31 06:46:59 2016\n",
      "Done applying weights to H(X): Mon Oct 31 06:47:02 2016\n",
      "Apply weights to H(X): Mon Oct 31 06:47:02 2016\n",
      "Done applying weights to H(X): Mon Oct 31 06:47:05 2016\n",
      "Apply weights to H(X): Mon Oct 31 06:47:05 2016\n",
      "Done applying weights to H(X): Mon Oct 31 06:47:08 2016\n",
      "                                                                   0\n",
      "# nonzero weights                                                  0\n",
      "kernelized solvin                                               True\n",
      "lambda                                                           100\n",
      "test (0/1 loss)/N                                             0.4867\n",
      "test 0/1 loss                                                   4867\n",
      "test RMSE                                                    1.24261\n",
      "test SSE                                                     15440.7\n",
      "weights            [[1.43750995505e-06, 7.28390696016e-07, 1.4290...\n"
     ]
    }
   ],
   "source": [
    "hyper_explorer.evaluate_test_data()"
   ]
  },
  {
   "cell_type": "code",
   "execution_count": null,
   "metadata": {
    "collapsed": true
   },
   "outputs": [],
   "source": []
  }
 ],
 "metadata": {
  "anaconda-cloud": {},
  "kernelspec": {
   "display_name": "Python [conda env:mlpy3]",
   "language": "python",
   "name": "conda-env-mlpy3-py"
  },
  "language_info": {
   "codemirror_mode": {
    "name": "ipython",
    "version": 3
   },
   "file_extension": ".py",
   "mimetype": "text/x-python",
   "name": "python",
   "nbconvert_exporter": "python",
   "pygments_lexer": "ipython3",
   "version": "3.5.2"
  }
 },
 "nbformat": 4,
 "nbformat_minor": 1
}
