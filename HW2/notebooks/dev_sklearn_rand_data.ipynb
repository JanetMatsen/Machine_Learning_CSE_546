{
 "cells": [
  {
   "cell_type": "code",
   "execution_count": 1,
   "metadata": {
    "collapsed": true
   },
   "outputs": [],
   "source": [
    "import numpy as np\n",
    "import matplotlib as mpl\n",
    "%matplotlib inline\n",
    "import pandas as pd\n",
    "import seaborn as sns"
   ]
  },
  {
   "cell_type": "code",
   "execution_count": 2,
   "metadata": {
    "collapsed": true
   },
   "outputs": [],
   "source": [
    "from sklearn.datasets import make_classification"
   ]
  },
  {
   "cell_type": "code",
   "execution_count": 3,
   "metadata": {
    "collapsed": true
   },
   "outputs": [],
   "source": [
    "import sys\n",
    "sys.path.append('../code/')"
   ]
  },
  {
   "cell_type": "code",
   "execution_count": 4,
   "metadata": {
    "collapsed": false
   },
   "outputs": [],
   "source": [
    "from classification_base import ClassificationBase"
   ]
  },
  {
   "cell_type": "code",
   "execution_count": 5,
   "metadata": {
    "collapsed": false
   },
   "outputs": [],
   "source": [
    "from logistic_regression import LogisticRegression"
   ]
  },
  {
   "cell_type": "code",
   "execution_count": 6,
   "metadata": {
    "collapsed": false
   },
   "outputs": [],
   "source": [
    "X, y = make_classification(n_samples=10, n_features=4, \n",
    "                           n_informative=4, n_redundant=0, n_repeated=0, \n",
    "                           n_classes=2, n_clusters_per_class=2, \n",
    "                           weights=None, flip_y=0.01, class_sep=1.0, \n",
    "                           hypercube=True, shift=0.0, scale=1.0, \n",
    "                           shuffle=True, random_state=None)"
   ]
  },
  {
   "cell_type": "code",
   "execution_count": 7,
   "metadata": {
    "collapsed": false
   },
   "outputs": [
    {
     "data": {
      "text/plain": [
       "array([[ 1.13258643, -0.00533291, -1.19270693, -0.74183672],\n",
       "       [ 1.04000911, -0.85345318,  1.9833962 , -0.14592653],\n",
       "       [-1.0521829 , -2.36621704, -0.93009081, -2.65611117],\n",
       "       [-0.90472863,  1.11484829,  0.47264946,  0.45315552],\n",
       "       [ 2.10015852,  0.56037562,  1.94212735, -1.35483358],\n",
       "       [-1.90691114,  1.03111173, -0.74852453,  1.04010887],\n",
       "       [-1.15502495, -0.97751693, -1.13186772,  0.53340348],\n",
       "       [ 0.62176039,  1.83350727, -0.37845259, -1.0958637 ],\n",
       "       [-1.41831713, -0.51101673,  1.19028859, -1.74457142],\n",
       "       [-0.94832807, -1.90310502, -0.84118622, -1.68171093]])"
      ]
     },
     "execution_count": 7,
     "metadata": {},
     "output_type": "execute_result"
    }
   ],
   "source": [
    "X"
   ]
  },
  {
   "cell_type": "code",
   "execution_count": 8,
   "metadata": {
    "collapsed": false
   },
   "outputs": [
    {
     "data": {
      "text/plain": [
       "array([0, 1, 0, 1, 1, 0, 1, 0, 1, 0])"
      ]
     },
     "execution_count": 8,
     "metadata": {},
     "output_type": "execute_result"
    }
   ],
   "source": [
    "y"
   ]
  },
  {
   "cell_type": "code",
   "execution_count": 9,
   "metadata": {
    "collapsed": false
   },
   "outputs": [],
   "source": [
    "lr = LogisticRegression(X = X, y=y, n0=1, lam=0)"
   ]
  },
  {
   "cell_type": "code",
   "execution_count": 10,
   "metadata": {
    "collapsed": false
   },
   "outputs": [
    {
     "name": "stdout",
     "output_type": "stream",
     "text": [
      "................................................................................................................................................................................................................................................................................................................"
     ]
    }
   ],
   "source": [
    "lr.run()"
   ]
  },
  {
   "cell_type": "code",
   "execution_count": 11,
   "metadata": {
    "collapsed": false
   },
   "outputs": [
    {
     "data": {
      "text/plain": [
       "array([ 0.74619884, -3.89437739,  5.79923831,  4.41201739])"
      ]
     },
     "execution_count": 11,
     "metadata": {},
     "output_type": "execute_result"
    }
   ],
   "source": [
    "lr.w"
   ]
  },
  {
   "cell_type": "code",
   "execution_count": 12,
   "metadata": {
    "collapsed": false
   },
   "outputs": [
    {
     "data": {
      "text/plain": [
       "array([ 0.,  1.,  0.,  1.,  1.,  0.,  1.,  0.,  1.,  0.])"
      ]
     },
     "execution_count": 12,
     "metadata": {},
     "output_type": "execute_result"
    }
   ],
   "source": [
    "lr.predict()"
   ]
  },
  {
   "cell_type": "code",
   "execution_count": 13,
   "metadata": {
    "collapsed": false
   },
   "outputs": [
    {
     "data": {
      "text/html": [
       "<div>\n",
       "<table border=\"1\" class=\"dataframe\">\n",
       "  <thead>\n",
       "    <tr style=\"text-align: right;\">\n",
       "      <th></th>\n",
       "      <th>(0/1 loss)/N</th>\n",
       "      <th>-(log loss)</th>\n",
       "      <th>0/1 loss</th>\n",
       "      <th>iteration</th>\n",
       "      <th>log loss</th>\n",
       "    </tr>\n",
       "  </thead>\n",
       "  <tbody>\n",
       "    <tr>\n",
       "      <th>0</th>\n",
       "      <td>0.0</td>\n",
       "      <td>0.448684</td>\n",
       "      <td>0</td>\n",
       "      <td>295</td>\n",
       "      <td>-0.448684</td>\n",
       "    </tr>\n",
       "    <tr>\n",
       "      <th>0</th>\n",
       "      <td>0.0</td>\n",
       "      <td>0.448478</td>\n",
       "      <td>0</td>\n",
       "      <td>296</td>\n",
       "      <td>-0.448478</td>\n",
       "    </tr>\n",
       "    <tr>\n",
       "      <th>0</th>\n",
       "      <td>0.0</td>\n",
       "      <td>0.448275</td>\n",
       "      <td>0</td>\n",
       "      <td>297</td>\n",
       "      <td>-0.448275</td>\n",
       "    </tr>\n",
       "    <tr>\n",
       "      <th>0</th>\n",
       "      <td>0.0</td>\n",
       "      <td>0.448074</td>\n",
       "      <td>0</td>\n",
       "      <td>298</td>\n",
       "      <td>-0.448074</td>\n",
       "    </tr>\n",
       "    <tr>\n",
       "      <th>0</th>\n",
       "      <td>0.0</td>\n",
       "      <td>0.447874</td>\n",
       "      <td>0</td>\n",
       "      <td>299</td>\n",
       "      <td>-0.447874</td>\n",
       "    </tr>\n",
       "    <tr>\n",
       "      <th>0</th>\n",
       "      <td>0.0</td>\n",
       "      <td>0.447678</td>\n",
       "      <td>0</td>\n",
       "      <td>300</td>\n",
       "      <td>-0.447678</td>\n",
       "    </tr>\n",
       "    <tr>\n",
       "      <th>0</th>\n",
       "      <td>0.0</td>\n",
       "      <td>0.447483</td>\n",
       "      <td>0</td>\n",
       "      <td>301</td>\n",
       "      <td>-0.447483</td>\n",
       "    </tr>\n",
       "    <tr>\n",
       "      <th>0</th>\n",
       "      <td>0.0</td>\n",
       "      <td>0.447290</td>\n",
       "      <td>0</td>\n",
       "      <td>302</td>\n",
       "      <td>-0.447290</td>\n",
       "    </tr>\n",
       "    <tr>\n",
       "      <th>0</th>\n",
       "      <td>0.0</td>\n",
       "      <td>0.447099</td>\n",
       "      <td>0</td>\n",
       "      <td>303</td>\n",
       "      <td>-0.447099</td>\n",
       "    </tr>\n",
       "    <tr>\n",
       "      <th>0</th>\n",
       "      <td>0.0</td>\n",
       "      <td>0.446911</td>\n",
       "      <td>0</td>\n",
       "      <td>304</td>\n",
       "      <td>-0.446911</td>\n",
       "    </tr>\n",
       "  </tbody>\n",
       "</table>\n",
       "</div>"
      ],
      "text/plain": [
       "   (0/1 loss)/N  -(log loss)  0/1 loss  iteration  log loss\n",
       "0           0.0     0.448684         0        295 -0.448684\n",
       "0           0.0     0.448478         0        296 -0.448478\n",
       "0           0.0     0.448275         0        297 -0.448275\n",
       "0           0.0     0.448074         0        298 -0.448074\n",
       "0           0.0     0.447874         0        299 -0.447874\n",
       "0           0.0     0.447678         0        300 -0.447678\n",
       "0           0.0     0.447483         0        301 -0.447483\n",
       "0           0.0     0.447290         0        302 -0.447290\n",
       "0           0.0     0.447099         0        303 -0.447099\n",
       "0           0.0     0.446911         0        304 -0.446911"
      ]
     },
     "execution_count": 13,
     "metadata": {},
     "output_type": "execute_result"
    }
   ],
   "source": [
    "lr.results.tail(10)"
   ]
  },
  {
   "cell_type": "code",
   "execution_count": 14,
   "metadata": {
    "collapsed": false
   },
   "outputs": [
    {
     "data": {
      "image/png": "[encoded data removed]",
      "text/plain": [
       "<matplotlib.figure.Figure at 0x10de024a8>"
      ]
     },
     "metadata": {},
     "output_type": "display_data"
    }
   ],
   "source": [
    "lr.plot_log_loss()"
   ]
  },
  {
   "cell_type": "code",
   "execution_count": 15,
   "metadata": {
    "collapsed": false
   },
   "outputs": [
    {
     "data": {
      "image/png": "[encoded data removed]",
      "text/plain": [
       "<matplotlib.figure.Figure at 0x1104006a0>"
      ]
     },
     "metadata": {},
     "output_type": "display_data"
    }
   ],
   "source": [
    "lr.plot_01_loss()"
   ]
  }
 ],
 "metadata": {
  "anaconda-cloud": {},
  "kernelspec": {
   "display_name": "Python [conda env:mlpy3]",
   "language": "python",
   "name": "conda-env-mlpy3-py"
  },
  "language_info": {
   "codemirror_mode": {
    "name": "ipython",
    "version": 3
   },
   "file_extension": ".py",
   "mimetype": "text/x-python",
   "name": "python",
   "nbconvert_exporter": "python",
   "pygments_lexer": "ipython3",
   "version": "3.5.2"
  }
 },
 "nbformat": 4,
 "nbformat_minor": 1
}
