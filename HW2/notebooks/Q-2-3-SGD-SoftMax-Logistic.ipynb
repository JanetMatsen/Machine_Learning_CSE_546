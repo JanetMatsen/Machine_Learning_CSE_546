{
 "cells": [
  {
   "cell_type": "code",
   "execution_count": null,
   "metadata": {
    "collapsed": true
   },
   "outputs": [],
   "source": [
    "import numpy as np\n",
    "import matplotlib as mpl\n",
    "import matplotlib.pyplot as plt\n",
    "%matplotlib inline\n",
    "import time\n",
    "\n",
    "import pandas as pd\n",
    "import seaborn as sns"
   ]
  },
  {
   "cell_type": "code",
   "execution_count": null,
   "metadata": {
    "collapsed": true
   },
   "outputs": [],
   "source": [
    "import sys\n",
    "sys.path.append('../code/')"
   ]
  },
  {
   "cell_type": "code",
   "execution_count": null,
   "metadata": {
    "collapsed": false
   },
   "outputs": [],
   "source": [
    "!pwd"
   ]
  },
  {
   "cell_type": "code",
   "execution_count": null,
   "metadata": {
    "collapsed": true
   },
   "outputs": [],
   "source": [
    "from logistic_regression import LogisticRegression\n",
    "from logistic_regression_batch import LogisticRegressionBatch\n",
    "from hyperparameter_explorer import HyperparameterExplorer"
   ]
  },
  {
   "cell_type": "code",
   "execution_count": null,
   "metadata": {
    "collapsed": true
   },
   "outputs": [],
   "source": [
    "from mnist_helpers import mnist_training, mnist_testing"
   ]
  },
  {
   "cell_type": "code",
   "execution_count": null,
   "metadata": {
    "collapsed": true
   },
   "outputs": [],
   "source": [
    "import matplotlib.pyplot as plt\n",
    "from pylab import rcParams\n",
    "rcParams['figure.figsize'] = 4, 3"
   ]
  },
  {
   "cell_type": "code",
   "execution_count": null,
   "metadata": {
    "collapsed": false
   },
   "outputs": [],
   "source": [
    "train_X, train_y = mnist_training(shuffled=True)\n",
    "test_X, test_y = mnist_testing(shuffled=True)"
   ]
  },
  {
   "cell_type": "raw",
   "metadata": {
    "collapsed": false
   },
   "source": [
    "hyper_explorer_batch = HyperparameterExplorer(X=train_X, y=train_y, \n",
    "                                        model=LogisticRegressionBatch, \n",
    "                                        validation_split=0.1, \n",
    "                                        score_name = '-(log loss)/N, training', \n",
    "                                        use_prev_best_weights=True,\n",
    "                                        test_X=test_X, test_y=test_y)  # need test_X, test_y for loss w/ fit plot"
   ]
  },
  {
   "cell_type": "code",
   "execution_count": null,
   "metadata": {
    "collapsed": false
   },
   "outputs": [],
   "source": [
    "hyper_explorer_sgd = HyperparameterExplorer(X=train_X, y=train_y, \n",
    "                                        model=LogisticRegression, \n",
    "                                        validation_split=0.1, \n",
    "                                        score_name = '-(log loss)/N, training', \n",
    "                                        use_prev_best_weights=True,\n",
    "                                        test_X=test_X, test_y=test_y)  "
   ]
  },
  {
   "cell_type": "code",
   "execution_count": null,
   "metadata": {
    "collapsed": true
   },
   "outputs": [],
   "source": [
    "eta0 = 1\n",
    "num_iter = 1000\n",
    "batch_size = 1\n",
    "max_iter = 10**3\n",
    "delta_percent = 0.001"
   ]
  },
  {
   "cell_type": "code",
   "execution_count": null,
   "metadata": {
    "collapsed": false
   },
   "outputs": [],
   "source": [
    "eta0=0.1\n",
    "batch_size = 1000\n",
    "hyper_explorer_sgd.train_model(lam=0, eta0=eta0, max_iter=max_iter,  \n",
    "                               batch_size=batch_size, progress_monitoring_freq=batch_size*10,\n",
    "                               delta_percent=delta_percent, verbose=False)"
   ]
  },
  {
   "cell_type": "code",
   "execution_count": null,
   "metadata": {
    "collapsed": false
   },
   "outputs": [],
   "source": [
    "eta0=0.1\n",
    "batch_size = 1000\n",
    "hyper_explorer_sgd.train_model(lam=1, eta0=eta0, max_iter=max_iter,  \n",
    "                               batch_size=batch_size, progress_monitoring_freq=batch_size*10,\n",
    "                               delta_percent=delta_percent, verbose=False)"
   ]
  },
  {
   "cell_type": "code",
   "execution_count": null,
   "metadata": {
    "collapsed": false
   },
   "outputs": [],
   "source": [
    "eta0=0.1\n",
    "batch_size = 1000\n",
    "hyper_explorer_sgd.train_model(lam=2, eta0=eta0, max_iter=max_iter,  \n",
    "                               batch_size=batch_size, progress_monitoring_freq=batch_size*10,\n",
    "                               delta_percent=delta_percent, verbose=False)"
   ]
  },
  {
   "cell_type": "code",
   "execution_count": null,
   "metadata": {
    "collapsed": true
   },
   "outputs": [],
   "source": [
    "eta0=0.1\n",
    "batch_size = 1000\n",
    "hyper_explorer_sgd.train_model(lam=3, eta0=eta0, max_iter=max_iter,  \n",
    "                               batch_size=batch_size, progress_monitoring_freq=batch_size*10,\n",
    "                               delta_percent=delta_percent, verbose=False)"
   ]
  },
  {
   "cell_type": "code",
   "execution_count": null,
   "metadata": {
    "collapsed": true
   },
   "outputs": [],
   "source": [
    "eta0=0.1\n",
    "batch_size = 1000\n",
    "hyper_explorer_sgd.train_model(lam=5, eta0=eta0, max_iter=max_iter,  \n",
    "                               batch_size=batch_size, progress_monitoring_freq=batch_size*10,\n",
    "                               delta_percent=delta_percent, verbose=False)"
   ]
  },
  {
   "cell_type": "code",
   "execution_count": null,
   "metadata": {
    "collapsed": false
   },
   "outputs": [],
   "source": [
    "eta0=0.1\n",
    "batch_size = 1000\n",
    "hyper_explorer_sgd.train_model(lam=10, eta0=eta0, max_iter=max_iter,  \n",
    "                               batch_size=batch_size, progress_monitoring_freq=batch_size*10,\n",
    "                               delta_percent=delta_percent, verbose=False)"
   ]
  },
  {
   "cell_type": "code",
   "execution_count": null,
   "metadata": {
    "collapsed": false
   },
   "outputs": [],
   "source": [
    " hyper_explorer_sgd.plot_best_fits(logx=False)"
   ]
  },
  {
   "cell_type": "code",
   "execution_count": null,
   "metadata": {
    "collapsed": false
   },
   "outputs": [],
   "source": [
    "hyper_explorer_sgd.summary.tail(3)"
   ]
  },
  {
   "cell_type": "code",
   "execution_count": null,
   "metadata": {
    "collapsed": true
   },
   "outputs": [],
   "source": [
    "assert False"
   ]
  },
  {
   "cell_type": "code",
   "execution_count": null,
   "metadata": {
    "collapsed": false
   },
   "outputs": [],
   "source": [
    "hyper_explorer_sgd.best('model').results.tail(3)"
   ]
  },
  {
   "cell_type": "code",
   "execution_count": null,
   "metadata": {
    "collapsed": false
   },
   "outputs": [],
   "source": [
    "fig, ax = plt.subplots(1, 1, figsize=(4, 3))\n",
    "plot_data = hyper_explorer_sgd.best('model').results\n",
    "print(plot_data.columns)\n",
    "xval = '# of passes through N pts'\n",
    "colors=['b', 'g']\n",
    "plt.plot(plot_data[xval], plot_data['-(log loss)/N, training'], linestyle='--', marker='o', color=colors[0])\n",
    "plt.plot(plot_data[xval], plot_data['-(log loss)/N, testing'], linestyle='--', marker='o', color=colors[1])\n",
    "plt.legend(loc='best')\n",
    "plt.xlabel(xval)\n",
    "plt.ylabel('-(log loss)/N')\n",
    "ax.axhline(y=0, color='k')\n",
    "plt.tight_layout()\n",
    "#fig.savefig(\"161031_Q-2-1_norm_log_loss_during_fit--no_starting_weights.pdf\")"
   ]
  },
  {
   "cell_type": "code",
   "execution_count": null,
   "metadata": {
    "collapsed": false
   },
   "outputs": [],
   "source": [
    "hyper_explorer_sgd.train_on_whole_training_set(max_iter=10**3)"
   ]
  },
  {
   "cell_type": "code",
   "execution_count": null,
   "metadata": {
    "collapsed": false
   },
   "outputs": [],
   "source": [
    "hyper_explorer_sgd.evaluate_test_data()"
   ]
  },
  {
   "cell_type": "code",
   "execution_count": null,
   "metadata": {
    "collapsed": true
   },
   "outputs": [],
   "source": []
  }
 ],
 "metadata": {
  "anaconda-cloud": {},
  "kernelspec": {
   "display_name": "Python [conda env:mlpy3]",
   "language": "python",
   "name": "conda-env-mlpy3-py"
  },
  "language_info": {
   "codemirror_mode": {
    "name": "ipython",
    "version": 3
   },
   "file_extension": ".py",
   "mimetype": "text/x-python",
   "name": "python",
   "nbconvert_exporter": "python",
   "pygments_lexer": "ipython3",
   "version": "3.5.2"
  }
 },
 "nbformat": 4,
 "nbformat_minor": 1
}
