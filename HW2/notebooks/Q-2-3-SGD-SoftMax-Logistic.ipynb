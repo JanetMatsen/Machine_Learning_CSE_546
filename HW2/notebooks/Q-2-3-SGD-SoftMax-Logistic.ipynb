{
 "cells": [
  {
   "cell_type": "code",
   "execution_count": null,
   "metadata": {
    "collapsed": true
   },
   "outputs": [],
   "source": [
    "import numpy as np\n",
    "import matplotlib as mpl\n",
    "import matplotlib.pyplot as plt\n",
    "%matplotlib inline\n",
    "import time\n",
    "\n",
    "import pandas as pd\n",
    "import seaborn as sns"
   ]
  },
  {
   "cell_type": "code",
   "execution_count": null,
   "metadata": {
    "collapsed": true
   },
   "outputs": [],
   "source": [
    "import sys\n",
    "sys.path.append('../code/')"
   ]
  },
  {
   "cell_type": "code",
   "execution_count": null,
   "metadata": {
    "collapsed": false
   },
   "outputs": [],
   "source": [
    "!pwd"
   ]
  },
  {
   "cell_type": "code",
   "execution_count": null,
   "metadata": {
    "collapsed": true
   },
   "outputs": [],
   "source": [
    "from logistic_regression import LogisticRegression\n",
    "from logistic_regression_batch import LogisticRegressionBatch\n",
    "from hyperparameter_explorer import HyperparameterExplorer"
   ]
  },
  {
   "cell_type": "code",
   "execution_count": null,
   "metadata": {
    "collapsed": true
   },
   "outputs": [],
   "source": [
    "from mnist_helpers import mnist_training, mnist_testing"
   ]
  },
  {
   "cell_type": "code",
   "execution_count": null,
   "metadata": {
    "collapsed": true
   },
   "outputs": [],
   "source": [
    "import matplotlib.pyplot as plt\n",
    "from pylab import rcParams\n",
    "rcParams['figure.figsize'] = 4, 3"
   ]
  },
  {
   "cell_type": "raw",
   "metadata": {
    "collapsed": true
   },
   "source": [
    "from sklearn.datasets import make_classification\n",
    "X, y = make_classification(n_samples=20, n_features=5, \n",
    "                           n_informative=5, n_redundant=0, n_repeated=0, \n",
    "                           n_classes=3, n_clusters_per_class=1, \n",
    "                           weights=None, flip_y=0.001, class_sep=1.0, \n",
    "                           hypercube=True, shift=0.0, scale=1.0, \n",
    "                           shuffle=True, random_state=None)\n",
    "sp = 10\n",
    "train_X = X[1:sp,]\n",
    "train_y = y[1:sp,]\n",
    "test_X = X[sp:,]\n",
    "test_y = y[sp:,]"
   ]
  },
  {
   "cell_type": "code",
   "execution_count": null,
   "metadata": {
    "collapsed": false
   },
   "outputs": [],
   "source": [
    "train_X, train_y = mnist_training(shuffled=True)\n",
    "test_X, test_y = mnist_testing(shuffled=True)\n",
    "\n",
    "train_X = train_X[0:1000]\n",
    "train_y = train_y[0:1000]"
   ]
  },
  {
   "cell_type": "raw",
   "metadata": {
    "collapsed": false
   },
   "source": [
    "hyper_explorer_batch = HyperparameterExplorer(X=train_X, y=train_y, \n",
    "                                        model=LogisticRegressionBatch, \n",
    "                                        validation_split=0.1, \n",
    "                                        score_name = '-(log loss)/N, training', \n",
    "                                        use_prev_best_weights=True,\n",
    "                                        test_X=test_X, test_y=test_y)  # need test_X, test_y for loss w/ fit plot"
   ]
  },
  {
   "cell_type": "code",
   "execution_count": null,
   "metadata": {
    "collapsed": false
   },
   "outputs": [],
   "source": [
    "hyper_explorer_sgd = HyperparameterExplorer(X=train_X, y=train_y, \n",
    "                                        model=LogisticRegression, \n",
    "                                        validation_split=0.1, \n",
    "                                        score_name = '-(log loss)/N, training', \n",
    "                                        use_prev_best_weights=True,\n",
    "                                        test_X=test_X, test_y=test_y)  # need test_X, test_y for loss w/ fit plot"
   ]
  },
  {
   "cell_type": "code",
   "execution_count": null,
   "metadata": {
    "collapsed": false
   },
   "outputs": [],
   "source": [
    "eta0=0.1\n",
    "batchs = 1000\n",
    "hyper_explorer_sgd.train_model(lam=0, eta0=eta0, max_iter=8*10**3, #10**2, \n",
    "                               batch_size=batchs, progress_monitoring_freq=batchs*10,\n",
    "                               delta_percent=.001, verbose=False)"
   ]
  },
  {
   "cell_type": "code",
   "execution_count": null,
   "metadata": {
    "collapsed": true
   },
   "outputs": [],
   "source": [
    "eta0=0.1\n",
    "batchs = 1000\n",
    "hyper_explorer_sgd.train_model(lam=1, eta0=eta0, max_iter=8*10**3, #10**2, \n",
    "                               batch_size=batchs, progress_monitoring_freq=batchs*10,\n",
    "                               delta_percent=.001, verbose=False)"
   ]
  },
  {
   "cell_type": "code",
   "execution_count": null,
   "metadata": {
    "collapsed": false
   },
   "outputs": [],
   "source": [
    "eta0=0.1\n",
    "batchs = 1000\n",
    "hyper_explorer_sgd.train_model(lam=2, eta0=eta0, max_iter=5*10**3, #10**2, \n",
    "                               batch_size=batchs, progress_monitoring_freq=batchs*10,\n",
    "                               delta_percent=.001, verbose=False)"
   ]
  },
  {
   "cell_type": "code",
   "execution_count": null,
   "metadata": {
    "collapsed": true
   },
   "outputs": [],
   "source": [
    "eta0=0.1\n",
    "batchs = 1000\n",
    "hyper_explorer_sgd.train_model(lam=3, eta0=eta0, max_iter=5*10**3, #10**2, \n",
    "                               batch_size=batchs, progress_monitoring_freq=batchs*10,\n",
    "                               delta_percent=.001, verbose=False)"
   ]
  },
  {
   "cell_type": "code",
   "execution_count": null,
   "metadata": {
    "collapsed": true
   },
   "outputs": [],
   "source": [
    "eta0=0.1\n",
    "batchs = 1000\n",
    "hyper_explorer_sgd.train_model(lam=5, eta0=eta0, max_iter=5*10**3, #10**2, \n",
    "                               batch_size=batchs, progress_monitoring_freq=batchs*10,\n",
    "                               delta_percent=.001, verbose=False)"
   ]
  },
  {
   "cell_type": "code",
   "execution_count": null,
   "metadata": {
    "collapsed": false
   },
   "outputs": [],
   "source": [
    "eta0=0.1\n",
    "batchs = 1000\n",
    "hyper_explorer_sgd.train_model(lam=10, eta0=eta0, max_iter=5*10**3, #10**2, \n",
    "                               batch_size=batchs, progress_monitoring_freq=batchs*10,\n",
    "                               delta_percent=.001, verbose=False)"
   ]
  },
  {
   "cell_type": "code",
   "execution_count": null,
   "metadata": {
    "collapsed": false
   },
   "outputs": [],
   "source": [
    " hyper_explorer_sgd.plot_best_fits(logx=False)"
   ]
  },
  {
   "cell_type": "code",
   "execution_count": null,
   "metadata": {
    "collapsed": false
   },
   "outputs": [],
   "source": [
    "    hyper_explorer_sgd.models[1].plot_test_and_train_log_loss_during_fitting()"
   ]
  },
  {
   "cell_type": "code",
   "execution_count": null,
   "metadata": {
    "collapsed": false
   },
   "outputs": [],
   "source": [
    "10**5"
   ]
  },
  {
   "cell_type": "code",
   "execution_count": null,
   "metadata": {
    "collapsed": false
   },
   "outputs": [],
   "source": [
    "hyper_explorer_sgd.summary.tail(3)"
   ]
  },
  {
   "cell_type": "code",
   "execution_count": null,
   "metadata": {
    "collapsed": false
   },
   "outputs": [],
   "source": [
    "hyper_explorer_sgd.best('model').results.tail(3)"
   ]
  },
  {
   "cell_type": "code",
   "execution_count": null,
   "metadata": {
    "collapsed": false
   },
   "outputs": [],
   "source": [
    "fig, ax = plt.subplots(1, 1, figsize=(4, 3))\n",
    "plot_data = hyper_explorer_sgd.best('model').results\n",
    "print(plot_data.columns)\n",
    "xval = '# of passes through N pts'\n",
    "colors=['b', 'g']\n",
    "plt.plot(plot_data[xval], plot_data['-(log loss)/N, training'], linestyle='--', marker='o', color=colors[0])\n",
    "plt.plot(plot_data[xval], plot_data['-(log loss)/N, testing'], linestyle='--', marker='o', color=colors[1])\n",
    "plt.legend(loc='best')\n",
    "plt.xlabel(xval)\n",
    "plt.ylabel('-(log loss)/N')\n",
    "ax.axhline(y=0, color='k')\n",
    "plt.tight_layout()\n",
    "#fig.savefig(\"161031_Q-2-1_norm_log_loss_during_fit--no_starting_weights.pdf\")"
   ]
  },
  {
   "cell_type": "code",
   "execution_count": null,
   "metadata": {
    "collapsed": false
   },
   "outputs": [],
   "source": [
    "hyper_explorer_sgd.train_on_whole_training_set(max_iter=10**3)"
   ]
  },
  {
   "cell_type": "code",
   "execution_count": null,
   "metadata": {
    "collapsed": false
   },
   "outputs": [],
   "source": [
    "hyper_explorer_sgd.evaluate_test_data()"
   ]
  },
  {
   "cell_type": "code",
   "execution_count": null,
   "metadata": {
    "collapsed": true
   },
   "outputs": [],
   "source": []
  }
 ],
 "metadata": {
  "anaconda-cloud": {},
  "kernelspec": {
   "display_name": "Python [conda env:mlpy3]",
   "language": "python",
   "name": "conda-env-mlpy3-py"
  },
  "language_info": {
   "codemirror_mode": {
    "name": "ipython",
    "version": 3
   },
   "file_extension": ".py",
   "mimetype": "text/x-python",
   "name": "python",
   "nbconvert_exporter": "python",
   "pygments_lexer": "ipython3",
   "version": "3.5.2"
  }
 },
 "nbformat": 4,
 "nbformat_minor": 1
}
