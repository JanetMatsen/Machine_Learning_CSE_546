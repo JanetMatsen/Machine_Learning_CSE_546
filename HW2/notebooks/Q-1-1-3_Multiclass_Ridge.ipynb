{
 "cells": [
  {
   "cell_type": "markdown",
   "metadata": {},
   "source": [
    "# Question_1-1-3_Multiclass_Ridge\n",
    "\n",
    "Janet Matsen\n",
    "\n",
    "Code notes:\n",
    "* Indivudal regressions are done by instinces of `RidgeRegression`, defined in `rige_regression.py`.\n",
    "    * `RidgeRegression` gets some methods from `ClassificationBase`, defined in `classification_base.py`.\n",
    "* The class `HyperparameterExplorer` in `hyperparameter_explorer` is used to tune hyperparameters on training data.\n"
   ]
  },
  {
   "cell_type": "code",
   "execution_count": null,
   "metadata": {
    "collapsed": true
   },
   "outputs": [],
   "source": [
    "import numpy as np\n",
    "import matplotlib as mpl\n",
    "%matplotlib inline\n",
    "import time\n",
    "\n",
    "import pandas as pd\n",
    "import seaborn as sns\n",
    "\n",
    "from mnist import MNIST  # public package for making arrays out of MINST data."
   ]
  },
  {
   "cell_type": "code",
   "execution_count": null,
   "metadata": {
    "collapsed": true
   },
   "outputs": [],
   "source": [
    "import sys\n",
    "sys.path.append('../code/')"
   ]
  },
  {
   "cell_type": "code",
   "execution_count": null,
   "metadata": {
    "collapsed": false
   },
   "outputs": [],
   "source": [
    "from ridge_regression import RidgeMulti\n",
    "from hyperparameter_explorer import HyperparameterExplorer"
   ]
  },
  {
   "cell_type": "code",
   "execution_count": null,
   "metadata": {
    "collapsed": true
   },
   "outputs": [],
   "source": [
    "from mnist_helpers import mnist_training, mnist_testing"
   ]
  },
  {
   "cell_type": "code",
   "execution_count": null,
   "metadata": {
    "collapsed": true
   },
   "outputs": [],
   "source": [
    "import matplotlib.pyplot as plt\n",
    "from pylab import rcParams\n",
    "rcParams['figure.figsize'] = 4, 3"
   ]
  },
  {
   "cell_type": "markdown",
   "metadata": {},
   "source": [
    "### Prepare MNIST training data"
   ]
  },
  {
   "cell_type": "code",
   "execution_count": null,
   "metadata": {
    "collapsed": false
   },
   "outputs": [],
   "source": [
    "train_X, train_y = mnist_training()\n",
    "test_X, test_y = mnist_testing()"
   ]
  },
  {
   "cell_type": "markdown",
   "metadata": {},
   "source": [
    "## Explore hyperparameters before training model on all of the training data."
   ]
  },
  {
   "cell_type": "code",
   "execution_count": null,
   "metadata": {
    "collapsed": false
   },
   "outputs": [],
   "source": [
    "hyper_explorer = HyperparameterExplorer(X=train_X, y=train_y, \n",
    "                                        model=RidgeMulti, \n",
    "                                        validation_split=0.1, score_name = 'training RMSE', \n",
    "                                        use_prev_best_weights=False,\n",
    "                                        test_X=test_X, test_y=test_y)"
   ]
  },
  {
   "cell_type": "code",
   "execution_count": null,
   "metadata": {
    "collapsed": false
   },
   "outputs": [],
   "source": [
    "hyper_explorer.train_model(lam=1e10, verbose=False)"
   ]
  },
  {
   "cell_type": "code",
   "execution_count": null,
   "metadata": {
    "collapsed": true
   },
   "outputs": [],
   "source": [
    "hyper_explorer.train_model(lam=1e+08, verbose=False)\n",
    "hyper_explorer.train_model(lam=1e+07, verbose=False)"
   ]
  },
  {
   "cell_type": "code",
   "execution_count": null,
   "metadata": {
    "collapsed": true
   },
   "outputs": [],
   "source": [
    "hyper_explorer.train_model(lam=1e+06, verbose=False)"
   ]
  },
  {
   "cell_type": "code",
   "execution_count": null,
   "metadata": {
    "collapsed": false
   },
   "outputs": [],
   "source": [
    "hyper_explorer.train_model(lam=1e5, verbose=False)\n",
    "hyper_explorer.train_model(lam=1e4, verbose=False)\n",
    "hyper_explorer.train_model(lam=1e03, verbose=False)\n",
    "hyper_explorer.train_model(lam=1e2, verbose=False)"
   ]
  },
  {
   "cell_type": "code",
   "execution_count": null,
   "metadata": {
    "collapsed": false
   },
   "outputs": [],
   "source": [
    "hyper_explorer.train_model(lam=1e1, verbose=False)"
   ]
  },
  {
   "cell_type": "code",
   "execution_count": null,
   "metadata": {
    "collapsed": true
   },
   "outputs": [],
   "source": [
    "hyper_explorer.train_model(lam=1e0, verbose=False)\n",
    "hyper_explorer.train_model(lam=1e-1, verbose=False)\n",
    "hyper_explorer.train_model(lam=1e-2, verbose=False)\n",
    "hyper_explorer.train_model(lam=1e-3, verbose=False)\n",
    "hyper_explorer.train_model(lam=1e-4, verbose=False)\n",
    "hyper_explorer.train_model(lam=1e-5, verbose=False)"
   ]
  },
  {
   "cell_type": "code",
   "execution_count": null,
   "metadata": {
    "collapsed": false
   },
   "outputs": [],
   "source": [
    "hyper_explorer.summary"
   ]
  },
  {
   "cell_type": "code",
   "execution_count": null,
   "metadata": {
    "collapsed": false
   },
   "outputs": [],
   "source": [
    "hyper_explorer.plot_fits()"
   ]
  },
  {
   "cell_type": "code",
   "execution_count": null,
   "metadata": {
    "collapsed": false
   },
   "outputs": [],
   "source": [
    "t = time.localtime(time.time())\n",
    "\n",
    "hyper_explorer.plot_fits(filename = \"Q-1-1-3_val_and_train_RMSE_{}-{}\".format(t.tm_mon, t.tm_mday))"
   ]
  },
  {
   "cell_type": "code",
   "execution_count": null,
   "metadata": {
    "collapsed": false
   },
   "outputs": [],
   "source": [
    "hyper_explorer.plot_fits(ylim=(.6,.7),\n",
    "                         filename = \"Q-1-1-3_val_and_train_RMSE_zoomed_in{}-{}\".format(t.tm_mon, t.tm_mday))"
   ]
  },
  {
   "cell_type": "code",
   "execution_count": null,
   "metadata": {
    "collapsed": false
   },
   "outputs": [],
   "source": [
    "hyper_explorer.best('score')"
   ]
  },
  {
   "cell_type": "code",
   "execution_count": null,
   "metadata": {
    "collapsed": false
   },
   "outputs": [],
   "source": [
    "hyper_explorer.best('summary')"
   ]
  },
  {
   "cell_type": "code",
   "execution_count": null,
   "metadata": {
    "collapsed": false
   },
   "outputs": [],
   "source": [
    "hyper_explorer.best('best score')"
   ]
  },
  {
   "cell_type": "code",
   "execution_count": null,
   "metadata": {
    "collapsed": false
   },
   "outputs": [],
   "source": [
    "hyper_explorer.train_on_whole_training_set(lam=1e7)"
   ]
  },
  {
   "cell_type": "code",
   "execution_count": null,
   "metadata": {
    "collapsed": false
   },
   "outputs": [],
   "source": [
    "hyper_explorer.final_model.results_row()"
   ]
  },
  {
   "cell_type": "code",
   "execution_count": null,
   "metadata": {
    "collapsed": false
   },
   "outputs": [],
   "source": [
    "hyper_explorer.evaluate_test_data()"
   ]
  },
  {
   "cell_type": "code",
   "execution_count": null,
   "metadata": {
    "collapsed": true
   },
   "outputs": [],
   "source": []
  },
  {
   "cell_type": "code",
   "execution_count": null,
   "metadata": {
    "collapsed": true
   },
   "outputs": [],
   "source": []
  }
 ],
 "metadata": {
  "anaconda-cloud": {},
  "kernelspec": {
   "display_name": "Python [conda env:mlpy3]",
   "language": "python",
   "name": "conda-env-mlpy3-py"
  },
  "language_info": {
   "codemirror_mode": {
    "name": "ipython",
    "version": 3
   },
   "file_extension": ".py",
   "mimetype": "text/x-python",
   "name": "python",
   "nbconvert_exporter": "python",
   "pygments_lexer": "ipython3",
   "version": "3.5.2"
  }
 },
 "nbformat": 4,
 "nbformat_minor": 1
}
