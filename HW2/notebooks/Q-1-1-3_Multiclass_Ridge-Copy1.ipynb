{
 "cells": [
  {
   "cell_type": "markdown",
   "metadata": {},
   "source": [
    "# Question_1-1-3_Multiclass_Ridge\n",
    "\n",
    "Janet Matsen\n",
    "\n",
    "Code notes:\n",
    "* Indivudal regressions are done by instinces of `RidgeRegression`, defined in `rige_regression.py`.\n",
    "    * `RidgeRegression` gets some methods from `ClassificationBase`, defined in `classification_base.py`.\n",
    "* The class `HyperparameterExplorer` in `hyperparameter_explorer` is used to tune hyperparameters on training data.\n"
   ]
  },
  {
   "cell_type": "code",
   "execution_count": 1,
   "metadata": {
    "collapsed": true
   },
   "outputs": [],
   "source": [
    "import numpy as np\n",
    "import matplotlib as mpl\n",
    "%matplotlib inline\n",
    "import time\n",
    "\n",
    "import pandas as pd\n",
    "import seaborn as sns\n",
    "\n",
    "from mnist import MNIST  # public package for making arrays out of MINST data."
   ]
  },
  {
   "cell_type": "code",
   "execution_count": 2,
   "metadata": {
    "collapsed": true
   },
   "outputs": [],
   "source": [
    "import sys\n",
    "sys.path.append('../code/')"
   ]
  },
  {
   "cell_type": "code",
   "execution_count": 3,
   "metadata": {
    "collapsed": false
   },
   "outputs": [],
   "source": [
    "from ridge_regression import RidgeMulti\n",
    "from hyperparameter_explorer import HyperparameterExplorer"
   ]
  },
  {
   "cell_type": "code",
   "execution_count": 4,
   "metadata": {
    "collapsed": true
   },
   "outputs": [],
   "source": [
    "from mnist_helpers import mnist_training, mnist_testing"
   ]
  },
  {
   "cell_type": "code",
   "execution_count": 5,
   "metadata": {
    "collapsed": true
   },
   "outputs": [],
   "source": [
    "import matplotlib.pyplot as plt\n",
    "from pylab import rcParams\n",
    "rcParams['figure.figsize'] = 4, 3"
   ]
  },
  {
   "cell_type": "markdown",
   "metadata": {},
   "source": [
    "### Prepare MNIST training data"
   ]
  },
  {
   "cell_type": "code",
   "execution_count": 6,
   "metadata": {
    "collapsed": false
   },
   "outputs": [
    {
     "name": "stdout",
     "output_type": "stream",
     "text": [
      "[    0     1     2 ..., 59997 59998 59999]\n",
      "[   0    1    2 ..., 9997 9998 9999]\n"
     ]
    }
   ],
   "source": [
    "train_X, train_y = mnist_training()\n",
    "test_X, test_y = mnist_testing()"
   ]
  },
  {
   "cell_type": "markdown",
   "metadata": {},
   "source": [
    "## Explore hyperparameters before training model on all of the training data."
   ]
  },
  {
   "cell_type": "code",
   "execution_count": 7,
   "metadata": {
    "collapsed": false
   },
   "outputs": [
    {
     "name": "stdout",
     "output_type": "stream",
     "text": [
      "6000 of 60000 points from training are reserved for validation\n",
      "variances of all training data: 8.347744528888887\n",
      "variances of split-off training & validation data: 8.346716212620029, 8.354324333333334\n"
     ]
    }
   ],
   "source": [
    "hyper_explorer = HyperparameterExplorer(X=train_X, y=train_y, \n",
    "                                        model=RidgeMulti, \n",
    "                                        validation_split=0.1, score_name = 'training RMSE', \n",
    "                                        use_prev_best_weights=False,\n",
    "                                        test_X=test_X, test_y=test_y)"
   ]
  },
  {
   "cell_type": "code",
   "execution_count": null,
   "metadata": {
    "collapsed": false
   },
   "outputs": [],
   "source": [
    "hyper_explorer.train_model(lam=1e10, verbose=False)"
   ]
  },
  {
   "cell_type": "code",
   "execution_count": null,
   "metadata": {
    "collapsed": true
   },
   "outputs": [],
   "source": [
    "hyper_explorer.train_model(lam=1e+08, verbose=False)\n",
    "hyper_explorer.train_model(lam=1e+07, verbose=False)"
   ]
  },
  {
   "cell_type": "code",
   "execution_count": 8,
   "metadata": {
    "collapsed": false
   },
   "outputs": [
    {
     "name": "stdout",
     "output_type": "stream",
     "text": [
      "training RMSE:0.6257551354903268\n"
     ]
    }
   ],
   "source": [
    "hyper_explorer.train_model(lam=1e+06, verbose=False)"
   ]
  },
  {
   "cell_type": "code",
   "execution_count": null,
   "metadata": {
    "collapsed": false
   },
   "outputs": [],
   "source": [
    "hyper_explorer.train_model(lam=1e5, verbose=False)\n",
    "hyper_explorer.train_model(lam=1e4, verbose=False)\n",
    "hyper_explorer.train_model(lam=1e03, verbose=False)\n",
    "hyper_explorer.train_model(lam=1e2, verbose=False)"
   ]
  },
  {
   "cell_type": "code",
   "execution_count": 9,
   "metadata": {
    "collapsed": false
   },
   "outputs": [
    {
     "name": "stdout",
     "output_type": "stream",
     "text": [
      "training RMSE:0.6248560063778434\n"
     ]
    }
   ],
   "source": [
    "hyper_explorer.train_model(lam=1e1, verbose=False)"
   ]
  },
  {
   "cell_type": "code",
   "execution_count": null,
   "metadata": {
    "collapsed": true
   },
   "outputs": [],
   "source": [
    "hyper_explorer.train_model(lam=1e0, verbose=False)\n",
    "hyper_explorer.train_model(lam=1e-1, verbose=False)\n",
    "hyper_explorer.train_model(lam=1e-2, verbose=False)\n",
    "hyper_explorer.train_model(lam=1e-3, verbose=False)\n",
    "hyper_explorer.train_model(lam=1e-4, verbose=False)\n",
    "hyper_explorer.train_model(lam=1e-5, verbose=False)"
   ]
  },
  {
   "cell_type": "code",
   "execution_count": 10,
   "metadata": {
    "collapsed": false
   },
   "outputs": [
    {
     "data": {
      "text/html": [
       "<div>\n",
       "<table border=\"1\" class=\"dataframe\">\n",
       "  <thead>\n",
       "    <tr style=\"text-align: right;\">\n",
       "      <th></th>\n",
       "      <th># nonzero weights</th>\n",
       "      <th>lambda</th>\n",
       "      <th>model number</th>\n",
       "      <th>training (0/1 loss)/N</th>\n",
       "      <th>training 0/1 loss</th>\n",
       "      <th>training RMSE</th>\n",
       "      <th>training SSE</th>\n",
       "      <th>weights</th>\n",
       "      <th>validation (0/1 loss)/N</th>\n",
       "      <th>validation 0/1 loss</th>\n",
       "      <th>validation RMSE</th>\n",
       "      <th>validation SSE</th>\n",
       "    </tr>\n",
       "  </thead>\n",
       "  <tbody>\n",
       "    <tr>\n",
       "      <th>0</th>\n",
       "      <td>3</td>\n",
       "      <td>1000000.0</td>\n",
       "      <td>1</td>\n",
       "      <td>0.149093</td>\n",
       "      <td>8051</td>\n",
       "      <td>0.625755</td>\n",
       "      <td>21144.752438</td>\n",
       "      <td>[[0.0, 0.0, 0.0, 0.0, 0.0, 0.0, 0.0, 0.0, 0.0,...</td>\n",
       "      <td>0.151333</td>\n",
       "      <td>908</td>\n",
       "      <td>0.632408</td>\n",
       "      <td>2399.638236</td>\n",
       "    </tr>\n",
       "    <tr>\n",
       "      <th>1</th>\n",
       "      <td>445</td>\n",
       "      <td>10.0</td>\n",
       "      <td>2</td>\n",
       "      <td>0.148648</td>\n",
       "      <td>8027</td>\n",
       "      <td>0.624856</td>\n",
       "      <td>21084.031550</td>\n",
       "      <td>[[0.0, 0.0, 0.0, 0.0, 0.0, 0.0, 0.0, 0.0, 0.0,...</td>\n",
       "      <td>0.153000</td>\n",
       "      <td>918</td>\n",
       "      <td>0.635386</td>\n",
       "      <td>2422.293121</td>\n",
       "    </tr>\n",
       "  </tbody>\n",
       "</table>\n",
       "</div>"
      ],
      "text/plain": [
       "   # nonzero weights     lambda  model number  training (0/1 loss)/N  \\\n",
       "0                  3  1000000.0             1               0.149093   \n",
       "1                445       10.0             2               0.148648   \n",
       "\n",
       "   training 0/1 loss  training RMSE  training SSE  \\\n",
       "0               8051       0.625755  21144.752438   \n",
       "1               8027       0.624856  21084.031550   \n",
       "\n",
       "                                             weights  validation (0/1 loss)/N  \\\n",
       "0  [[0.0, 0.0, 0.0, 0.0, 0.0, 0.0, 0.0, 0.0, 0.0,...                 0.151333   \n",
       "1  [[0.0, 0.0, 0.0, 0.0, 0.0, 0.0, 0.0, 0.0, 0.0,...                 0.153000   \n",
       "\n",
       "   validation 0/1 loss  validation RMSE  validation SSE  \n",
       "0                  908         0.632408     2399.638236  \n",
       "1                  918         0.635386     2422.293121  "
      ]
     },
     "execution_count": 10,
     "metadata": {},
     "output_type": "execute_result"
    }
   ],
   "source": [
    "hyper_explorer.summary"
   ]
  },
  {
   "cell_type": "code",
   "execution_count": 11,
   "metadata": {
    "collapsed": false
   },
   "outputs": [
    {
     "name": "stderr",
     "output_type": "stream",
     "text": [
      "../code/hyperparameter_explorer.py:185: FutureWarning: sort(columns=....) is deprecated, use sort_values(by=.....)\n",
      "  plot_data = df.sort(x)\n"
     ]
    },
    {
     "data": {
      "image/png": "[encoded data removed]",
      "text/plain": [
       "<matplotlib.figure.Figure at 0x104a25208>"
      ]
     },
     "metadata": {},
     "output_type": "display_data"
    }
   ],
   "source": [
    "hyper_explorer.plot_fits()"
   ]
  },
  {
   "cell_type": "code",
   "execution_count": null,
   "metadata": {
    "collapsed": false
   },
   "outputs": [],
   "source": [
    "t = time.localtime(time.time())\n",
    "\n",
    "hyper_explorer.plot_fits(filename = \"Q-1-1-3_val_and_train_RMSE_{}-{}\".format(t.tm_mon, t.tm_mday))"
   ]
  },
  {
   "cell_type": "code",
   "execution_count": null,
   "metadata": {
    "collapsed": false
   },
   "outputs": [],
   "source": [
    "hyper_explorer.plot_fits(ylim=(.6,.7),\n",
    "                         filename = \"Q-1-1-3_val_and_train_RMSE_zoomed_in{}-{}\".format(t.tm_mon, t.tm_mday))"
   ]
  },
  {
   "cell_type": "code",
   "execution_count": null,
   "metadata": {
    "collapsed": false
   },
   "outputs": [],
   "source": [
    "hyper_explorer.best('score')"
   ]
  },
  {
   "cell_type": "code",
   "execution_count": null,
   "metadata": {
    "collapsed": false
   },
   "outputs": [],
   "source": [
    "hyper_explorer.best('summary')"
   ]
  },
  {
   "cell_type": "code",
   "execution_count": null,
   "metadata": {
    "collapsed": false
   },
   "outputs": [],
   "source": [
    "hyper_explorer.best('best score')"
   ]
  },
  {
   "cell_type": "code",
   "execution_count": 13,
   "metadata": {
    "collapsed": false
   },
   "outputs": [
    {
     "name": "stdout",
     "output_type": "stream",
     "text": [
      "getting best model.\n",
      "{'training SSE': [21144.752437995936], 'lambda': [1000000.0], 'weights': [array([[ 0.,  0.,  0., ...,  0.,  0.,  0.],\n",
      "       [ 0.,  0.,  0., ...,  0.,  0.,  0.],\n",
      "       [ 0.,  0.,  0., ...,  0.,  0.,  0.],\n",
      "       ..., \n",
      "       [ 0.,  0.,  0., ...,  0.,  0.,  0.],\n",
      "       [ 0.,  0.,  0., ...,  0.,  0.,  0.],\n",
      "       [ 0.,  0.,  0., ...,  0.,  0.,  0.]])], 'training RMSE': [0.6257551354903268], 'training 0/1 loss': [8051], 'training (0/1 loss)/N': [0.14909259259259258], '# nonzero weights': [3]}\n"
     ]
    }
   ],
   "source": [
    "hyper_explorer.train_on_whole_training_set()"
   ]
  },
  {
   "cell_type": "code",
   "execution_count": 14,
   "metadata": {
    "collapsed": false
   },
   "outputs": [
    {
     "data": {
      "text/plain": [
       "{'# nonzero weights': [3],\n",
       " 'lambda': [1000000.0],\n",
       " 'training (0/1 loss)/N': [0.14931666666666665],\n",
       " 'training 0/1 loss': [8959],\n",
       " 'training RMSE': [0.62642358770304951],\n",
       " 'training SSE': [23544.39067384561],\n",
       " 'weights': [array([[ 0.,  0.,  0., ...,  0.,  0.,  0.],\n",
       "         [ 0.,  0.,  0., ...,  0.,  0.,  0.],\n",
       "         [ 0.,  0.,  0., ...,  0.,  0.,  0.],\n",
       "         ..., \n",
       "         [ 0.,  0.,  0., ...,  0.,  0.,  0.],\n",
       "         [ 0.,  0.,  0., ...,  0.,  0.,  0.],\n",
       "         [ 0.,  0.,  0., ...,  0.,  0.,  0.]])]}"
      ]
     },
     "execution_count": 14,
     "metadata": {},
     "output_type": "execute_result"
    }
   ],
   "source": [
    "hyper_explorer.final_model.results_row()"
   ]
  },
  {
   "cell_type": "code",
   "execution_count": 15,
   "metadata": {
    "collapsed": false
   },
   "outputs": [
    {
     "name": "stdout",
     "output_type": "stream",
     "text": [
      "                                                                   0\n",
      "# nonzero weights                                                  3\n",
      "lambda                                                         1e+06\n",
      "test (0/1 loss)/N                                             0.1459\n",
      "test 0/1 loss                                                   1459\n",
      "test RMSE                                                   0.627847\n",
      "test SSE                                                     3941.92\n",
      "weights            [[0.0, 0.0, 0.0, 0.0, 0.0, 0.0, 0.0, 0.0, 0.0,...\n"
     ]
    }
   ],
   "source": [
    "hyper_explorer.evaluate_test_data()"
   ]
  },
  {
   "cell_type": "code",
   "execution_count": null,
   "metadata": {
    "collapsed": true
   },
   "outputs": [],
   "source": []
  },
  {
   "cell_type": "code",
   "execution_count": null,
   "metadata": {
    "collapsed": true
   },
   "outputs": [],
   "source": []
  }
 ],
 "metadata": {
  "anaconda-cloud": {},
  "kernelspec": {
   "display_name": "Python [conda env:mlpy3]",
   "language": "python",
   "name": "conda-env-mlpy3-py"
  },
  "language_info": {
   "codemirror_mode": {
    "name": "ipython",
    "version": 3
   },
   "file_extension": ".py",
   "mimetype": "text/x-python",
   "name": "python",
   "nbconvert_exporter": "python",
   "pygments_lexer": "ipython3",
   "version": "3.5.2"
  }
 },
 "nbformat": 4,
 "nbformat_minor": 1
}
