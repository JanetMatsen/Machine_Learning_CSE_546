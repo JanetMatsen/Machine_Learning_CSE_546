{
 "cells": [
  {
   "cell_type": "code",
   "execution_count": null,
   "metadata": {
    "collapsed": false
   },
   "outputs": [],
   "source": [
    "import matplotlib as mpl\n",
    "mpl.use('Agg')\n",
    "%matplotlib inline\n",
    "import matplotlib.pyplot as plt\n",
    "import numpy as np\n",
    "import os\n",
    "import pandas as pd\n",
    "import pickle\n",
    "import seaborn as sns\n",
    "import sys"
   ]
  },
  {
   "cell_type": "code",
   "execution_count": null,
   "metadata": {
    "collapsed": false
   },
   "outputs": [],
   "source": [
    "sys.path.append('../code')\n",
    "sys.path.append('../../HW3/code/') # for PCA"
   ]
  },
  {
   "cell_type": "code",
   "execution_count": null,
   "metadata": {
    "collapsed": false
   },
   "outputs": [],
   "source": [
    "from NeuralNet import NeuralNet, make_dir\n",
    "from TransferFunctions import TanhTF\n",
    "from neural_net_helpers import mnist_training, mnist_testing"
   ]
  },
  {
   "cell_type": "code",
   "execution_count": null,
   "metadata": {
    "collapsed": false
   },
   "outputs": [],
   "source": [
    "pca_training = pickle.load(file=open('../data/PCA_training_data.pickle', \"rb\"))"
   ]
  },
  {
   "cell_type": "code",
   "execution_count": null,
   "metadata": {
    "collapsed": false
   },
   "outputs": [],
   "source": [
    "X_train_untransfored, y_train = mnist_training()\n",
    "X_test_untransfored, y_test = mnist_testing()"
   ]
  },
  {
   "cell_type": "code",
   "execution_count": null,
   "metadata": {
    "collapsed": true
   },
   "outputs": [],
   "source": [
    "X_train_PCA50 = np.load(\"../data/X_transformed_by_50_components.npy\").T\n",
    "X_test_PCA50 = np.load(\"../data/X_test_transformed_by_50_components.npy\").T"
   ]
  },
  {
   "cell_type": "code",
   "execution_count": null,
   "metadata": {
    "collapsed": false
   },
   "outputs": [],
   "source": [
    "# columns are data points and rows are features\n",
    "d, N = np.shape(X_train_PCA50)\n",
    "C = np.unique(y_train).shape[0]"
   ]
  },
  {
   "cell_type": "code",
   "execution_count": null,
   "metadata": {
    "collapsed": false
   },
   "outputs": [],
   "source": [
    "n = NeuralNet(X=X_train_PCA50, y=y_train, \n",
    "              hidden_nodes=500, \n",
    "              hiddenTF=TanhTF, outputTF=TanhTF,\n",
    "              minibatch_size=200,\n",
    "              eta0 = 0.01,\n",
    "              X_test = X_test_PCA50, y_test = y_test,\n",
    "              PCA = pca_training,\n",
    "             verbose=False)"
   ]
  },
  {
   "cell_type": "code",
   "execution_count": null,
   "metadata": {
    "collapsed": false
   },
   "outputs": [],
   "source": [
    "print(\"N: {}\".format(n.N))\n",
    "print(\"d: {}\".format(n.d))\n",
    "print(\"C: {}\".format(n.C))\n",
    "print(\"X shape: {}\".format(n.X.shape))\n",
    "print(\"y shape: {}\".format(n.y.shape))\n",
    "print(\"Y shape: {}\".format(n.Y.shape))"
   ]
  },
  {
   "cell_type": "code",
   "execution_count": null,
   "metadata": {
    "collapsed": false
   },
   "outputs": [],
   "source": [
    "n.run(epochs=10)"
   ]
  },
  {
   "cell_type": "code",
   "execution_count": null,
   "metadata": {
    "collapsed": false
   },
   "outputs": [],
   "source": [
    "n.C"
   ]
  },
  {
   "cell_type": "code",
   "execution_count": null,
   "metadata": {
    "collapsed": false
   },
   "outputs": [],
   "source": [
    "n.results.tail()"
   ]
  },
  {
   "cell_type": "code",
   "execution_count": null,
   "metadata": {
    "collapsed": false
   },
   "outputs": [],
   "source": [
    "sl = n.plot_square_loss()"
   ]
  },
  {
   "cell_type": "code",
   "execution_count": null,
   "metadata": {
    "collapsed": false
   },
   "outputs": [],
   "source": [
    "l01 = n.plot_01_loss()"
   ]
  },
  {
   "cell_type": "code",
   "execution_count": null,
   "metadata": {
    "collapsed": false
   },
   "outputs": [],
   "source": [
    "#p = n.plot_weight_evolution()"
   ]
  },
  {
   "cell_type": "code",
   "execution_count": null,
   "metadata": {
    "collapsed": false
   },
   "outputs": [],
   "source": [
    "n.results.tail(1).T"
   ]
  },
  {
   "cell_type": "code",
   "execution_count": null,
   "metadata": {
    "collapsed": false
   },
   "outputs": [],
   "source": [
    "n.W1.shape"
   ]
  },
  {
   "cell_type": "code",
   "execution_count": null,
   "metadata": {
    "collapsed": false
   },
   "outputs": [],
   "source": [
    "n.W1[0,:].shape"
   ]
  },
  {
   "cell_type": "code",
   "execution_count": null,
   "metadata": {
    "collapsed": false
   },
   "outputs": [],
   "source": [
    "n.display_hidden_node_as_image(n.W1[0,:])"
   ]
  },
  {
   "cell_type": "code",
   "execution_count": null,
   "metadata": {
    "collapsed": false
   },
   "outputs": [],
   "source": [
    "n.display_hidden_node_as_image(n.W1[10,:])"
   ]
  },
  {
   "cell_type": "code",
   "execution_count": null,
   "metadata": {
    "collapsed": false
   },
   "outputs": [],
   "source": [
    "n.W1[0,:].shape"
   ]
  },
  {
   "cell_type": "raw",
   "metadata": {
    "collapsed": true
   },
   "source": [
    "n.run(epochs=10)"
   ]
  },
  {
   "cell_type": "raw",
   "metadata": {},
   "source": [
    "p2 = n.plot_square_loss()"
   ]
  },
  {
   "cell_type": "raw",
   "metadata": {},
   "source": [
    "n.results.tail(1).T"
   ]
  },
  {
   "cell_type": "code",
   "execution_count": null,
   "metadata": {
    "collapsed": true
   },
   "outputs": [],
   "source": [
    "def display_hidden_node_as_image(self, weights, filename=None):\n",
    "    assert self.PCA is not None, \"need PCA pickle loaded for use\"\n",
    "    assert weights.shape == (50,), \"expected shape (50,); \" \\\n",
    "                                   \"got {}\".format(weights.shape)\n",
    "    print(weights)\n",
    "\n",
    "    # Take it out of PCA space.\n",
    "    image_vector = self.PCA.transform_number_up(weights, center=True)\n",
    "\n",
    "    def make_image(data, path=None):\n",
    "        plt.figure(figsize=(0.7,0.7))\n",
    "        p=plt.imshow(data.reshape(28, 28), origin='upper', interpolation='none')\n",
    "        p.set_cmap('gray_r')\n",
    "        plt.axis('off')\n",
    "        if path is not None:\n",
    "            plt.savefig(path)\n",
    "            plt.close()\n",
    "\n",
    "    make_image(image_vector, filename)"
   ]
  },
  {
   "cell_type": "code",
   "execution_count": null,
   "metadata": {
    "collapsed": false
   },
   "outputs": [],
   "source": [
    "display_hidden_node_as_image(n, np.zeros(shape=(50,)))"
   ]
  },
  {
   "cell_type": "code",
   "execution_count": null,
   "metadata": {
    "collapsed": false
   },
   "outputs": [],
   "source": [
    "image_dir = '../figures/Q-2-1_weight_visualization'\n",
    "make_dir(image_dir)"
   ]
  },
  {
   "cell_type": "code",
   "execution_count": null,
   "metadata": {
    "collapsed": true
   },
   "outputs": [],
   "source": [
    "import subprocess"
   ]
  },
  {
   "cell_type": "code",
   "execution_count": null,
   "metadata": {
    "collapsed": false
   },
   "outputs": [],
   "source": [
    "def visualize_10_W1_weights(self, folder):\n",
    "    # select 10 at random\n",
    "    random_indices = np.random.choice(range(self.W1.shape[0]), \n",
    "                                      size=(10,), replace=False)\n",
    "    print(random_indices)\n",
    "    image_num = 1\n",
    "    image_paths = []\n",
    "    \n",
    "    for index in random_indices:\n",
    "        print(index)\n",
    "        x_i = self.W1[index,:]\n",
    "        print(x_i[0:10])\n",
    "        image_filename = 'weight_{}.pdf'.format(index)\n",
    "        image_paths.append(image_filename)\n",
    "        self.display_hidden_node_as_image(x_i, image_filename)\n",
    "    print(image_paths)\n",
    "    \n",
    "    # stitch them togethe with subprocess.check_call() \n",
    "    # subprocess.call(\\\"\\\"\\\"mv *.png ../figures/PCA_reconstructions/\\\"\\\"\\\", shell=True)\n",
    "    i_names_str = \" \".join(image_paths)\n",
    "    print(i_names_str)\n",
    "    command = \"convert +append \" + i_names_str +' concat.png'\n",
    "    print(command)\n",
    "    \n",
    "    # remove the individuals\n",
    "    subprocess.call(command, shell=True)\n",
    "    for image in image_paths:\n",
    "        command = 'rm {}'.format(image)\n",
    "        print(command)\n",
    "        #subprocess.call(command, shell=True)\n",
    "    # move the product to the correct dir\n",
    "    dest_folder = os.path.join(folder, 'concat.png')\n",
    "    command = 'mv concat.png {}'.format(folder)\n",
    "    print(command)\n",
    "    subprocess.call(command, shell=True)\n"
   ]
  },
  {
   "cell_type": "code",
   "execution_count": null,
   "metadata": {
    "collapsed": false
   },
   "outputs": [],
   "source": [
    "visualize_10_W1_weights(n, '../figures/Q-2-1_weight_visualization')"
   ]
  },
  {
   "cell_type": "code",
   "execution_count": null,
   "metadata": {
    "collapsed": false
   },
   "outputs": [],
   "source": [
    "n.W1.shape"
   ]
  },
  {
   "cell_type": "code",
   "execution_count": null,
   "metadata": {
    "collapsed": true
   },
   "outputs": [],
   "source": []
  }
 ],
 "metadata": {
  "anaconda-cloud": {},
  "kernelspec": {
   "display_name": "Python [conda env:mlpy3]",
   "language": "python",
   "name": "conda-env-mlpy3-py"
  },
  "language_info": {
   "codemirror_mode": {
    "name": "ipython",
    "version": 3
   },
   "file_extension": ".py",
   "mimetype": "text/x-python",
   "name": "python",
   "nbconvert_exporter": "python",
   "pygments_lexer": "ipython3",
   "version": "3.5.2"
  }
 },
 "nbformat": 4,
 "nbformat_minor": 1
}
